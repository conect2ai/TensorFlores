{
 "cells": [
  {
   "cell_type": "markdown",
   "metadata": {},
   "source": [
    "# TensorFlores - Example 4"
   ]
  },
  {
   "cell_type": "markdown",
   "metadata": {},
   "source": [
    "## 1. Importing libraries"
   ]
  },
  {
   "cell_type": "code",
   "execution_count": 1,
   "metadata": {},
   "outputs": [],
   "source": [
    "import sys, os\n",
    "path = os.getcwd().split('\\\\examples')[0]\n",
    "sys.path.append(path)"
   ]
  },
  {
   "cell_type": "code",
   "execution_count": 2,
   "metadata": {},
   "outputs": [
    {
     "name": "stdout",
     "output_type": "stream",
     "text": [
      "WARNING:tensorflow:From c:\\Users\\thomm\\TensorFlores\\.venv\\lib\\site-packages\\keras\\src\\losses.py:2976: The name tf.losses.sparse_softmax_cross_entropy is deprecated. Please use tf.compat.v1.losses.sparse_softmax_cross_entropy instead.\n",
      "\n"
     ]
    }
   ],
   "source": [
    "import pandas as pd\n",
    "from sklearn.model_selection import train_test_split\n",
    "from sklearn.preprocessing import MinMaxScaler\n",
    "import tensorflow as tf\n",
    "from tensorflow.keras.layers import Dense\n",
    "import matplotlib.pyplot as plt\n",
    "import numpy as np\n",
    "import seaborn as sns\n",
    "\n",
    "from tensorflores.utils.cpp_generation import CppGeneration\n",
    "from tensorflores.utils.clustering import ClusteringMethods\n",
    "from tensorflores.utils.json_handle import JsonHandle\n",
    "from tensorflores.utils.quantization import Quantization"
   ]
  },
  {
   "cell_type": "markdown",
   "metadata": {},
   "source": [
    "## 2. Load Dataset"
   ]
  },
  {
   "cell_type": "code",
   "execution_count": 3,
   "metadata": {},
   "outputs": [
    {
     "data": {
      "text/html": [
       "<div>\n",
       "<style scoped>\n",
       "    .dataframe tbody tr th:only-of-type {\n",
       "        vertical-align: middle;\n",
       "    }\n",
       "\n",
       "    .dataframe tbody tr th {\n",
       "        vertical-align: top;\n",
       "    }\n",
       "\n",
       "    .dataframe thead th {\n",
       "        text-align: right;\n",
       "    }\n",
       "</style>\n",
       "<table border=\"1\" class=\"dataframe\">\n",
       "  <thead>\n",
       "    <tr style=\"text-align: right;\">\n",
       "      <th></th>\n",
       "      <th>CO2 (g/s) [estimated maf]</th>\n",
       "      <th>CO2 (g/s) [maf]</th>\n",
       "      <th>estimated_maf</th>\n",
       "      <th>intake_pressure</th>\n",
       "      <th>intake_temperature</th>\n",
       "      <th>latitude</th>\n",
       "      <th>longitude</th>\n",
       "      <th>maf</th>\n",
       "      <th>rpm</th>\n",
       "      <th>speed</th>\n",
       "    </tr>\n",
       "  </thead>\n",
       "  <tbody>\n",
       "    <tr>\n",
       "      <th>0</th>\n",
       "      <td>0.809921</td>\n",
       "      <td>0.639659</td>\n",
       "      <td>3.798529</td>\n",
       "      <td>26.0</td>\n",
       "      <td>54.0</td>\n",
       "      <td>-5.793477</td>\n",
       "      <td>-35.198093</td>\n",
       "      <td>3.0</td>\n",
       "      <td>1568.0</td>\n",
       "      <td>43.0</td>\n",
       "    </tr>\n",
       "    <tr>\n",
       "      <th>1</th>\n",
       "      <td>1.796942</td>\n",
       "      <td>2.132196</td>\n",
       "      <td>8.427658</td>\n",
       "      <td>57.0</td>\n",
       "      <td>53.0</td>\n",
       "      <td>-5.793538</td>\n",
       "      <td>-35.198116</td>\n",
       "      <td>10.0</td>\n",
       "      <td>1582.0</td>\n",
       "      <td>43.0</td>\n",
       "    </tr>\n",
       "    <tr>\n",
       "      <th>2</th>\n",
       "      <td>2.199995</td>\n",
       "      <td>2.132196</td>\n",
       "      <td>10.317979</td>\n",
       "      <td>69.0</td>\n",
       "      <td>53.0</td>\n",
       "      <td>-5.793600</td>\n",
       "      <td>-35.198139</td>\n",
       "      <td>10.0</td>\n",
       "      <td>1600.0</td>\n",
       "      <td>43.0</td>\n",
       "    </tr>\n",
       "    <tr>\n",
       "      <th>3</th>\n",
       "      <td>1.226761</td>\n",
       "      <td>0.639659</td>\n",
       "      <td>5.753511</td>\n",
       "      <td>38.0</td>\n",
       "      <td>54.0</td>\n",
       "      <td>-5.793665</td>\n",
       "      <td>-35.198170</td>\n",
       "      <td>3.0</td>\n",
       "      <td>1625.0</td>\n",
       "      <td>44.0</td>\n",
       "    </tr>\n",
       "    <tr>\n",
       "      <th>4</th>\n",
       "      <td>0.756202</td>\n",
       "      <td>0.426439</td>\n",
       "      <td>3.546585</td>\n",
       "      <td>24.0</td>\n",
       "      <td>54.0</td>\n",
       "      <td>-5.793739</td>\n",
       "      <td>-35.198196</td>\n",
       "      <td>2.0</td>\n",
       "      <td>1586.0</td>\n",
       "      <td>45.0</td>\n",
       "    </tr>\n",
       "  </tbody>\n",
       "</table>\n",
       "</div>"
      ],
      "text/plain": [
       "   CO2 (g/s) [estimated maf]  CO2 (g/s) [maf]  estimated_maf  intake_pressure  \\\n",
       "0                   0.809921         0.639659       3.798529             26.0   \n",
       "1                   1.796942         2.132196       8.427658             57.0   \n",
       "2                   2.199995         2.132196      10.317979             69.0   \n",
       "3                   1.226761         0.639659       5.753511             38.0   \n",
       "4                   0.756202         0.426439       3.546585             24.0   \n",
       "\n",
       "   intake_temperature  latitude  longitude   maf     rpm  speed  \n",
       "0                54.0 -5.793477 -35.198093   3.0  1568.0   43.0  \n",
       "1                53.0 -5.793538 -35.198116  10.0  1582.0   43.0  \n",
       "2                53.0 -5.793600 -35.198139  10.0  1600.0   43.0  \n",
       "3                54.0 -5.793665 -35.198170   3.0  1625.0   44.0  \n",
       "4                54.0 -5.793739 -35.198196   2.0  1586.0   45.0  "
      ]
     },
     "execution_count": 3,
     "metadata": {},
     "output_type": "execute_result"
    }
   ],
   "source": [
    "df = pd.read_csv(path + '\\\\data\\\\emission_total.csv')\n",
    "df.head(5)"
   ]
  },
  {
   "cell_type": "code",
   "execution_count": 4,
   "metadata": {},
   "outputs": [],
   "source": [
    "scaler = MinMaxScaler()\n",
    "values_df = scaler.fit_transform(df[['intake_pressure', 'intake_temperature', 'speed', 'CO2 (g/s) [maf]']])"
   ]
  },
  {
   "cell_type": "code",
   "execution_count": 5,
   "metadata": {},
   "outputs": [],
   "source": [
    "X = values_df[:,0:3]\n",
    "y = values_df[:,3:]"
   ]
  },
  {
   "cell_type": "markdown",
   "metadata": {},
   "source": [
    "## 3. Splitting the data"
   ]
  },
  {
   "cell_type": "code",
   "execution_count": 6,
   "metadata": {},
   "outputs": [],
   "source": [
    "X_train, X_test, y_train, y_test  = train_test_split(X, y, test_size=0.2, random_state=42)"
   ]
  },
  {
   "cell_type": "code",
   "execution_count": 7,
   "metadata": {},
   "outputs": [],
   "source": [
    "y_train = y_train.reshape(-1, 1)\n",
    "y_test = y_test.reshape(-1, 1)"
   ]
  },
  {
   "cell_type": "markdown",
   "metadata": {},
   "source": [
    "## 4. Define the model"
   ]
  },
  {
   "cell_type": "code",
   "execution_count": 8,
   "metadata": {},
   "outputs": [
    {
     "name": "stdout",
     "output_type": "stream",
     "text": [
      "WARNING:tensorflow:From c:\\Users\\thomm\\TensorFlores\\.venv\\lib\\site-packages\\keras\\src\\backend.py:873: The name tf.get_default_graph is deprecated. Please use tf.compat.v1.get_default_graph instead.\n",
      "\n"
     ]
    }
   ],
   "source": [
    "model = tf.keras.Sequential()\n",
    "model.add(Dense(16, activation = 'relu'))\n",
    "model.add(Dense(8, activation = 'relu'))\n",
    "model.add(Dense(1))"
   ]
  },
  {
   "cell_type": "markdown",
   "metadata": {},
   "source": [
    "## 5. Compile the model"
   ]
  },
  {
   "cell_type": "code",
   "execution_count": 9,
   "metadata": {},
   "outputs": [],
   "source": [
    "# configure the optimizer, loss, and metrics to monitor.\n",
    "opt = tf.keras.optimizers.Adam(\n",
    "        learning_rate=0.001,\n",
    "        beta_1=0.9,\n",
    "        beta_2=0.999,\n",
    "        epsilon=1e-07,\n",
    "        name='Adam')\n",
    "\n",
    "# Compile the model\n",
    "model.compile(optimizer=opt, loss='mse', metrics=[\"mse\"])"
   ]
  },
  {
   "cell_type": "markdown",
   "metadata": {},
   "source": [
    "## 6. Training model"
   ]
  },
  {
   "cell_type": "code",
   "execution_count": 10,
   "metadata": {},
   "outputs": [
    {
     "name": "stdout",
     "output_type": "stream",
     "text": [
      "Epoch 1/100\n",
      "WARNING:tensorflow:From c:\\Users\\thomm\\TensorFlores\\.venv\\lib\\site-packages\\keras\\src\\utils\\tf_utils.py:492: The name tf.ragged.RaggedTensorValue is deprecated. Please use tf.compat.v1.ragged.RaggedTensorValue instead.\n",
      "\n",
      "WARNING:tensorflow:From c:\\Users\\thomm\\TensorFlores\\.venv\\lib\\site-packages\\keras\\src\\engine\\base_layer_utils.py:384: The name tf.executing_eagerly_outside_functions is deprecated. Please use tf.compat.v1.executing_eagerly_outside_functions instead.\n",
      "\n",
      "205/205 [==============================] - 2s 4ms/step - loss: 0.0056 - mse: 0.0056 - val_loss: 0.0049 - val_mse: 0.0049\n",
      "Epoch 2/100\n",
      "205/205 [==============================] - 1s 3ms/step - loss: 0.0042 - mse: 0.0042 - val_loss: 0.0045 - val_mse: 0.0045\n",
      "Epoch 3/100\n",
      "205/205 [==============================] - 1s 3ms/step - loss: 0.0039 - mse: 0.0039 - val_loss: 0.0046 - val_mse: 0.0046\n",
      "Epoch 4/100\n",
      "205/205 [==============================] - 0s 2ms/step - loss: 0.0037 - mse: 0.0037 - val_loss: 0.0040 - val_mse: 0.0040\n",
      "Epoch 5/100\n",
      "205/205 [==============================] - 0s 2ms/step - loss: 0.0035 - mse: 0.0035 - val_loss: 0.0038 - val_mse: 0.0038\n",
      "Epoch 6/100\n",
      "205/205 [==============================] - 0s 2ms/step - loss: 0.0034 - mse: 0.0034 - val_loss: 0.0036 - val_mse: 0.0036\n",
      "Epoch 7/100\n",
      "205/205 [==============================] - 0s 2ms/step - loss: 0.0032 - mse: 0.0032 - val_loss: 0.0034 - val_mse: 0.0034\n",
      "Epoch 8/100\n",
      "205/205 [==============================] - 0s 2ms/step - loss: 0.0030 - mse: 0.0030 - val_loss: 0.0038 - val_mse: 0.0038\n",
      "Epoch 9/100\n",
      "205/205 [==============================] - 0s 2ms/step - loss: 0.0030 - mse: 0.0030 - val_loss: 0.0031 - val_mse: 0.0031\n",
      "Epoch 10/100\n",
      "205/205 [==============================] - 0s 2ms/step - loss: 0.0029 - mse: 0.0029 - val_loss: 0.0032 - val_mse: 0.0032\n",
      "Epoch 11/100\n",
      "205/205 [==============================] - 0s 2ms/step - loss: 0.0030 - mse: 0.0030 - val_loss: 0.0030 - val_mse: 0.0030\n",
      "Epoch 12/100\n",
      "205/205 [==============================] - 1s 3ms/step - loss: 0.0029 - mse: 0.0029 - val_loss: 0.0029 - val_mse: 0.0029\n",
      "Epoch 13/100\n",
      "205/205 [==============================] - 1s 3ms/step - loss: 0.0029 - mse: 0.0029 - val_loss: 0.0029 - val_mse: 0.0029\n",
      "Epoch 14/100\n",
      "205/205 [==============================] - 0s 2ms/step - loss: 0.0028 - mse: 0.0028 - val_loss: 0.0030 - val_mse: 0.0030\n",
      "Epoch 15/100\n",
      "205/205 [==============================] - 0s 2ms/step - loss: 0.0029 - mse: 0.0029 - val_loss: 0.0031 - val_mse: 0.0031\n",
      "Epoch 16/100\n",
      "205/205 [==============================] - 0s 2ms/step - loss: 0.0028 - mse: 0.0028 - val_loss: 0.0031 - val_mse: 0.0031\n",
      "Epoch 17/100\n",
      "205/205 [==============================] - 0s 2ms/step - loss: 0.0028 - mse: 0.0028 - val_loss: 0.0028 - val_mse: 0.0028\n",
      "Epoch 18/100\n",
      "205/205 [==============================] - 0s 2ms/step - loss: 0.0028 - mse: 0.0028 - val_loss: 0.0029 - val_mse: 0.0029\n",
      "Epoch 19/100\n",
      "205/205 [==============================] - 0s 2ms/step - loss: 0.0028 - mse: 0.0028 - val_loss: 0.0029 - val_mse: 0.0029\n",
      "Epoch 20/100\n",
      "205/205 [==============================] - 0s 2ms/step - loss: 0.0028 - mse: 0.0028 - val_loss: 0.0030 - val_mse: 0.0030\n",
      "Epoch 21/100\n",
      "205/205 [==============================] - 0s 2ms/step - loss: 0.0028 - mse: 0.0028 - val_loss: 0.0028 - val_mse: 0.0028\n",
      "Epoch 22/100\n",
      "205/205 [==============================] - 1s 2ms/step - loss: 0.0028 - mse: 0.0028 - val_loss: 0.0028 - val_mse: 0.0028\n",
      "Epoch 23/100\n",
      "205/205 [==============================] - 0s 2ms/step - loss: 0.0028 - mse: 0.0028 - val_loss: 0.0029 - val_mse: 0.0029\n",
      "Epoch 24/100\n",
      "205/205 [==============================] - 0s 2ms/step - loss: 0.0028 - mse: 0.0028 - val_loss: 0.0029 - val_mse: 0.0029\n",
      "Epoch 25/100\n",
      "205/205 [==============================] - 0s 2ms/step - loss: 0.0028 - mse: 0.0028 - val_loss: 0.0030 - val_mse: 0.0030\n",
      "Epoch 26/100\n",
      "205/205 [==============================] - 0s 2ms/step - loss: 0.0028 - mse: 0.0028 - val_loss: 0.0028 - val_mse: 0.0028\n",
      "Epoch 27/100\n",
      "205/205 [==============================] - 0s 2ms/step - loss: 0.0028 - mse: 0.0028 - val_loss: 0.0029 - val_mse: 0.0029\n",
      "Epoch 28/100\n",
      "205/205 [==============================] - 1s 3ms/step - loss: 0.0028 - mse: 0.0028 - val_loss: 0.0028 - val_mse: 0.0028\n",
      "Epoch 29/100\n",
      "205/205 [==============================] - 0s 2ms/step - loss: 0.0028 - mse: 0.0028 - val_loss: 0.0029 - val_mse: 0.0029\n",
      "Epoch 30/100\n",
      "205/205 [==============================] - 1s 2ms/step - loss: 0.0027 - mse: 0.0027 - val_loss: 0.0028 - val_mse: 0.0028\n",
      "Epoch 31/100\n",
      "205/205 [==============================] - 0s 2ms/step - loss: 0.0028 - mse: 0.0028 - val_loss: 0.0028 - val_mse: 0.0028\n",
      "Epoch 32/100\n",
      "205/205 [==============================] - 0s 2ms/step - loss: 0.0027 - mse: 0.0027 - val_loss: 0.0028 - val_mse: 0.0028\n",
      "Epoch 33/100\n",
      "205/205 [==============================] - 0s 2ms/step - loss: 0.0027 - mse: 0.0027 - val_loss: 0.0028 - val_mse: 0.0028\n",
      "Epoch 34/100\n",
      "205/205 [==============================] - 1s 4ms/step - loss: 0.0027 - mse: 0.0027 - val_loss: 0.0029 - val_mse: 0.0029\n",
      "Epoch 35/100\n",
      "205/205 [==============================] - 1s 4ms/step - loss: 0.0027 - mse: 0.0027 - val_loss: 0.0028 - val_mse: 0.0028\n",
      "Epoch 36/100\n",
      "205/205 [==============================] - 1s 3ms/step - loss: 0.0027 - mse: 0.0027 - val_loss: 0.0029 - val_mse: 0.0029\n",
      "Epoch 37/100\n",
      "205/205 [==============================] - 1s 3ms/step - loss: 0.0027 - mse: 0.0027 - val_loss: 0.0030 - val_mse: 0.0030\n",
      "Epoch 38/100\n",
      "205/205 [==============================] - 0s 2ms/step - loss: 0.0027 - mse: 0.0027 - val_loss: 0.0028 - val_mse: 0.0028\n",
      "Epoch 39/100\n",
      "205/205 [==============================] - 0s 2ms/step - loss: 0.0027 - mse: 0.0027 - val_loss: 0.0028 - val_mse: 0.0028\n",
      "Epoch 40/100\n",
      "205/205 [==============================] - 0s 2ms/step - loss: 0.0027 - mse: 0.0027 - val_loss: 0.0028 - val_mse: 0.0028\n",
      "Epoch 41/100\n",
      "205/205 [==============================] - 1s 3ms/step - loss: 0.0027 - mse: 0.0027 - val_loss: 0.0030 - val_mse: 0.0030\n",
      "Epoch 42/100\n",
      "205/205 [==============================] - 0s 2ms/step - loss: 0.0027 - mse: 0.0027 - val_loss: 0.0027 - val_mse: 0.0027\n",
      "Epoch 43/100\n",
      "205/205 [==============================] - 0s 2ms/step - loss: 0.0027 - mse: 0.0027 - val_loss: 0.0028 - val_mse: 0.0028\n",
      "Epoch 44/100\n",
      "205/205 [==============================] - 1s 3ms/step - loss: 0.0027 - mse: 0.0027 - val_loss: 0.0028 - val_mse: 0.0028\n",
      "Epoch 45/100\n",
      "205/205 [==============================] - 0s 2ms/step - loss: 0.0027 - mse: 0.0027 - val_loss: 0.0027 - val_mse: 0.0027\n",
      "Epoch 46/100\n",
      "205/205 [==============================] - 0s 2ms/step - loss: 0.0027 - mse: 0.0027 - val_loss: 0.0028 - val_mse: 0.0028\n",
      "Epoch 47/100\n",
      "205/205 [==============================] - 0s 2ms/step - loss: 0.0027 - mse: 0.0027 - val_loss: 0.0028 - val_mse: 0.0028\n",
      "Epoch 48/100\n",
      "205/205 [==============================] - 0s 2ms/step - loss: 0.0027 - mse: 0.0027 - val_loss: 0.0027 - val_mse: 0.0027\n",
      "Epoch 49/100\n",
      "205/205 [==============================] - 0s 2ms/step - loss: 0.0027 - mse: 0.0027 - val_loss: 0.0030 - val_mse: 0.0030\n",
      "Epoch 50/100\n",
      "205/205 [==============================] - 0s 2ms/step - loss: 0.0027 - mse: 0.0027 - val_loss: 0.0027 - val_mse: 0.0027\n",
      "Epoch 51/100\n",
      "205/205 [==============================] - 0s 2ms/step - loss: 0.0026 - mse: 0.0026 - val_loss: 0.0027 - val_mse: 0.0027\n",
      "Epoch 52/100\n",
      "205/205 [==============================] - 0s 2ms/step - loss: 0.0027 - mse: 0.0027 - val_loss: 0.0027 - val_mse: 0.0027\n",
      "Epoch 53/100\n",
      "205/205 [==============================] - 0s 2ms/step - loss: 0.0027 - mse: 0.0027 - val_loss: 0.0027 - val_mse: 0.0027\n",
      "Epoch 54/100\n",
      "205/205 [==============================] - 1s 3ms/step - loss: 0.0027 - mse: 0.0027 - val_loss: 0.0027 - val_mse: 0.0027\n",
      "Epoch 55/100\n",
      "205/205 [==============================] - 0s 2ms/step - loss: 0.0026 - mse: 0.0026 - val_loss: 0.0027 - val_mse: 0.0027\n",
      "Epoch 56/100\n",
      "205/205 [==============================] - 0s 2ms/step - loss: 0.0026 - mse: 0.0026 - val_loss: 0.0027 - val_mse: 0.0027\n",
      "Epoch 57/100\n",
      "205/205 [==============================] - 1s 3ms/step - loss: 0.0027 - mse: 0.0027 - val_loss: 0.0028 - val_mse: 0.0028\n",
      "Epoch 58/100\n",
      "205/205 [==============================] - 0s 2ms/step - loss: 0.0026 - mse: 0.0026 - val_loss: 0.0026 - val_mse: 0.0026\n",
      "Epoch 59/100\n",
      "205/205 [==============================] - 0s 2ms/step - loss: 0.0027 - mse: 0.0027 - val_loss: 0.0027 - val_mse: 0.0027\n",
      "Epoch 60/100\n",
      "205/205 [==============================] - 0s 2ms/step - loss: 0.0026 - mse: 0.0026 - val_loss: 0.0028 - val_mse: 0.0028\n",
      "Epoch 61/100\n",
      "205/205 [==============================] - 0s 2ms/step - loss: 0.0026 - mse: 0.0026 - val_loss: 0.0026 - val_mse: 0.0026\n",
      "Epoch 62/100\n",
      "205/205 [==============================] - 0s 2ms/step - loss: 0.0026 - mse: 0.0026 - val_loss: 0.0027 - val_mse: 0.0027\n",
      "Epoch 63/100\n",
      "205/205 [==============================] - 0s 2ms/step - loss: 0.0026 - mse: 0.0026 - val_loss: 0.0028 - val_mse: 0.0028\n",
      "Epoch 64/100\n",
      "205/205 [==============================] - 0s 2ms/step - loss: 0.0026 - mse: 0.0026 - val_loss: 0.0028 - val_mse: 0.0028\n",
      "Epoch 65/100\n",
      "205/205 [==============================] - 1s 2ms/step - loss: 0.0027 - mse: 0.0027 - val_loss: 0.0028 - val_mse: 0.0028\n",
      "Epoch 66/100\n",
      "205/205 [==============================] - 0s 2ms/step - loss: 0.0026 - mse: 0.0026 - val_loss: 0.0027 - val_mse: 0.0027\n",
      "Epoch 67/100\n",
      "205/205 [==============================] - 1s 3ms/step - loss: 0.0026 - mse: 0.0026 - val_loss: 0.0027 - val_mse: 0.0027\n",
      "Epoch 68/100\n",
      "205/205 [==============================] - 0s 2ms/step - loss: 0.0026 - mse: 0.0026 - val_loss: 0.0027 - val_mse: 0.0027\n",
      "Epoch 69/100\n",
      "205/205 [==============================] - 1s 3ms/step - loss: 0.0026 - mse: 0.0026 - val_loss: 0.0026 - val_mse: 0.0026\n",
      "Epoch 70/100\n",
      "205/205 [==============================] - 0s 2ms/step - loss: 0.0026 - mse: 0.0026 - val_loss: 0.0029 - val_mse: 0.0029\n",
      "Epoch 71/100\n",
      "205/205 [==============================] - 0s 2ms/step - loss: 0.0026 - mse: 0.0026 - val_loss: 0.0026 - val_mse: 0.0026\n",
      "Epoch 72/100\n",
      "205/205 [==============================] - 0s 2ms/step - loss: 0.0026 - mse: 0.0026 - val_loss: 0.0027 - val_mse: 0.0027\n",
      "Epoch 73/100\n",
      "205/205 [==============================] - 0s 2ms/step - loss: 0.0026 - mse: 0.0026 - val_loss: 0.0028 - val_mse: 0.0028\n",
      "Epoch 74/100\n",
      "205/205 [==============================] - 0s 2ms/step - loss: 0.0026 - mse: 0.0026 - val_loss: 0.0026 - val_mse: 0.0026\n",
      "Epoch 75/100\n",
      "205/205 [==============================] - 0s 2ms/step - loss: 0.0026 - mse: 0.0026 - val_loss: 0.0027 - val_mse: 0.0027\n",
      "Epoch 76/100\n",
      "205/205 [==============================] - 0s 2ms/step - loss: 0.0026 - mse: 0.0026 - val_loss: 0.0026 - val_mse: 0.0026\n",
      "Epoch 77/100\n",
      "205/205 [==============================] - 0s 2ms/step - loss: 0.0026 - mse: 0.0026 - val_loss: 0.0027 - val_mse: 0.0027\n",
      "Epoch 78/100\n",
      "205/205 [==============================] - 0s 2ms/step - loss: 0.0026 - mse: 0.0026 - val_loss: 0.0026 - val_mse: 0.0026\n",
      "Epoch 79/100\n",
      "205/205 [==============================] - 0s 2ms/step - loss: 0.0026 - mse: 0.0026 - val_loss: 0.0027 - val_mse: 0.0027\n",
      "Epoch 80/100\n",
      "205/205 [==============================] - 0s 2ms/step - loss: 0.0026 - mse: 0.0026 - val_loss: 0.0029 - val_mse: 0.0029\n",
      "Epoch 81/100\n",
      "205/205 [==============================] - 0s 2ms/step - loss: 0.0026 - mse: 0.0026 - val_loss: 0.0027 - val_mse: 0.0027\n",
      "Epoch 82/100\n",
      "205/205 [==============================] - 1s 2ms/step - loss: 0.0026 - mse: 0.0026 - val_loss: 0.0027 - val_mse: 0.0027\n",
      "Epoch 83/100\n",
      "205/205 [==============================] - 0s 2ms/step - loss: 0.0026 - mse: 0.0026 - val_loss: 0.0027 - val_mse: 0.0027\n",
      "Epoch 84/100\n",
      "205/205 [==============================] - 1s 3ms/step - loss: 0.0026 - mse: 0.0026 - val_loss: 0.0026 - val_mse: 0.0026\n",
      "Epoch 85/100\n",
      "205/205 [==============================] - 0s 2ms/step - loss: 0.0026 - mse: 0.0026 - val_loss: 0.0026 - val_mse: 0.0026\n",
      "Epoch 86/100\n",
      "205/205 [==============================] - 0s 2ms/step - loss: 0.0025 - mse: 0.0025 - val_loss: 0.0026 - val_mse: 0.0026\n",
      "Epoch 87/100\n",
      "205/205 [==============================] - 0s 2ms/step - loss: 0.0026 - mse: 0.0026 - val_loss: 0.0026 - val_mse: 0.0026\n",
      "Epoch 88/100\n",
      "205/205 [==============================] - 0s 2ms/step - loss: 0.0025 - mse: 0.0025 - val_loss: 0.0026 - val_mse: 0.0026\n",
      "Epoch 89/100\n",
      "205/205 [==============================] - 0s 2ms/step - loss: 0.0026 - mse: 0.0026 - val_loss: 0.0026 - val_mse: 0.0026\n",
      "Epoch 90/100\n",
      "205/205 [==============================] - 0s 2ms/step - loss: 0.0026 - mse: 0.0026 - val_loss: 0.0026 - val_mse: 0.0026\n",
      "Epoch 91/100\n",
      "205/205 [==============================] - 0s 2ms/step - loss: 0.0025 - mse: 0.0025 - val_loss: 0.0028 - val_mse: 0.0028\n",
      "Epoch 92/100\n",
      "205/205 [==============================] - 0s 2ms/step - loss: 0.0025 - mse: 0.0025 - val_loss: 0.0026 - val_mse: 0.0026\n",
      "Epoch 93/100\n",
      "205/205 [==============================] - 0s 2ms/step - loss: 0.0025 - mse: 0.0025 - val_loss: 0.0026 - val_mse: 0.0026\n",
      "Epoch 94/100\n",
      "205/205 [==============================] - 0s 2ms/step - loss: 0.0025 - mse: 0.0025 - val_loss: 0.0026 - val_mse: 0.0026\n",
      "Epoch 95/100\n",
      "205/205 [==============================] - 0s 2ms/step - loss: 0.0025 - mse: 0.0025 - val_loss: 0.0026 - val_mse: 0.0026\n",
      "Epoch 96/100\n",
      "205/205 [==============================] - 0s 2ms/step - loss: 0.0026 - mse: 0.0026 - val_loss: 0.0028 - val_mse: 0.0028\n",
      "Epoch 97/100\n",
      "205/205 [==============================] - 1s 3ms/step - loss: 0.0025 - mse: 0.0025 - val_loss: 0.0027 - val_mse: 0.0027\n",
      "Epoch 98/100\n",
      "205/205 [==============================] - 1s 3ms/step - loss: 0.0026 - mse: 0.0026 - val_loss: 0.0027 - val_mse: 0.0027\n",
      "Epoch 99/100\n",
      "205/205 [==============================] - 0s 2ms/step - loss: 0.0025 - mse: 0.0025 - val_loss: 0.0026 - val_mse: 0.0026\n",
      "Epoch 100/100\n",
      "205/205 [==============================] - 0s 2ms/step - loss: 0.0025 - mse: 0.0025 - val_loss: 0.0026 - val_mse: 0.0026\n"
     ]
    }
   ],
   "source": [
    "history = model.fit(X_train, y_train,\n",
    "                    batch_size=36,\n",
    "                    epochs=100,\n",
    "                    validation_split = 0.1,\n",
    "                    verbose=1)"
   ]
  },
  {
   "cell_type": "code",
   "execution_count": 11,
   "metadata": {},
   "outputs": [
    {
     "data": {
      "image/png": "[encoded data removed]",
      "text/plain": [
       "<Figure size 640x480 with 1 Axes>"
      ]
     },
     "metadata": {},
     "output_type": "display_data"
    }
   ],
   "source": [
    "loss = history.history['loss']\n",
    "val_loss = history.history['val_loss']\n",
    "epochs = range(1, len(loss) + 1)\n",
    "plt.plot(epochs, loss, 'r.', label='Training loss')\n",
    "plt.plot(epochs, val_loss, 'y', label='Validation loss')\n",
    "plt.title('Training and validation loss')\n",
    "plt.xlabel('Epochs')\n",
    "plt.ylabel('Loss')\n",
    "plt.grid()\n",
    "plt.legend()\n",
    "plt.show()"
   ]
  },
  {
   "cell_type": "code",
   "execution_count": 12,
   "metadata": {},
   "outputs": [],
   "source": [
    "model.save('model.keras')"
   ]
  },
  {
   "cell_type": "code",
   "execution_count": 13,
   "metadata": {},
   "outputs": [
    {
     "name": "stdout",
     "output_type": "stream",
     "text": [
      "Input test:  [0.07407407 0.07142857 0.94936709]\n"
     ]
    }
   ],
   "source": [
    "print('Input test: ', X_test[0])"
   ]
  },
  {
   "cell_type": "code",
   "execution_count": 14,
   "metadata": {},
   "outputs": [
    {
     "name": "stdout",
     "output_type": "stream",
     "text": [
      "64/64 [==============================] - 0s 1ms/step\n",
      "Predict test:  [0.1056415]\n"
     ]
    }
   ],
   "source": [
    "print('Predict test: ', model.predict(X_test)[0])"
   ]
  },
  {
   "cell_type": "code",
   "execution_count": 15,
   "metadata": {},
   "outputs": [
    {
     "name": "stdout",
     "output_type": "stream",
     "text": [
      "64/64 [==============================] - 0s 1ms/step\n"
     ]
    }
   ],
   "source": [
    "error = model.predict(X_test) - y_test"
   ]
  },
  {
   "cell_type": "code",
   "execution_count": 16,
   "metadata": {},
   "outputs": [
    {
     "data": {
      "image/png": "[encoded data removed]",
      "text/plain": [
       "<Figure size 800x600 with 1 Axes>"
      ]
     },
     "metadata": {},
     "output_type": "display_data"
    }
   ],
   "source": [
    "# Estatísticas\n",
    "error_mean = np.mean(error)\n",
    "error_std = np.std(error)\n",
    "error_max = np.max(error)\n",
    "error_min = np.min(error)\n",
    "\n",
    "# Criando a figura e os eixos\n",
    "fig, ax = plt.subplots(figsize=(8, 6))\n",
    "\n",
    "# Estilo do gráfico\n",
    "plt.style.use('ggplot')\n",
    "\n",
    "# Plotando histograma com KDE (Densidade) sem legenda\n",
    "sns.histplot(error, bins=30, color='coral', edgecolor='black', stat=\"density\", kde=True, legend=False, ax=ax)\n",
    "\n",
    "# Configuração dos eixos\n",
    "ax.set_xlabel('Error', fontsize=14)\n",
    "ax.set_ylabel('Density', fontsize=14)\n",
    "#ax.set_title('Error Distribution', fontsize=15)\n",
    "ax.tick_params(labelsize=14)\n",
    "ax.grid(True)\n",
    "\n",
    "# Definindo limites do eixo X\n",
    "#ax.set_xlim(error_min, error_max)\n",
    "\n",
    "# Exibir os valores estatísticos no gráfico\n",
    "textstr = '\\n'.join((\n",
    "    f'Max: {error_max:.4f}',\n",
    "    f'Min: {error_min:.4f}',\n",
    "    f'Mean: {error_mean:.4f}',\n",
    "    f'2x Std: {2 * error_std:.4f}'\n",
    "))\n",
    "props = dict(boxstyle='round', facecolor='gray', alpha=0.5)\n",
    "ax.text(0.95, 0.95, textstr, transform=ax.transAxes, fontsize=12,\n",
    "        verticalalignment='top', horizontalalignment='right', bbox=props)\n",
    "\n",
    "plt.savefig('./figures/example_04_tensorflow.pdf', bbox_inches='tight', pad_inches=0, dpi=300)\n",
    "# Exibir gráfico\n",
    "plt.show()"
   ]
  },
  {
   "cell_type": "markdown",
   "metadata": {},
   "source": [
    "## 7. TensorFlores converter"
   ]
  },
  {
   "cell_type": "markdown",
   "metadata": {},
   "source": [
    "### 7.2 Convert the Tensorflow model, using post quantization int8 and total (weights eand biases)"
   ]
  },
  {
   "cell_type": "markdown",
   "metadata": {},
   "source": [
    "#### 7.2.1 Save as Json"
   ]
  },
  {
   "cell_type": "code",
   "execution_count": 17,
   "metadata": {},
   "outputs": [
    {
     "data": {
      "text/plain": [
       "{'num_layers': 3,\n",
       " 'model_quantized': False,\n",
       " 'layers': [{'activation': 'relu',\n",
       "   'weights': [[0.2285795658826828,\n",
       "     0.2654980421066284,\n",
       "     0.14224828779697418,\n",
       "     0.27832165360450745,\n",
       "     0.34304168820381165,\n",
       "     -0.15471047163009644,\n",
       "     0.08229552954435349,\n",
       "     0.03697875887155533,\n",
       "     0.574588418006897,\n",
       "     0.27221933007240295,\n",
       "     0.3698675036430359,\n",
       "     0.18740126490592957,\n",
       "     -0.26425471901893616,\n",
       "     0.4140512943267822,\n",
       "     0.23558038473129272,\n",
       "     0.5731029510498047],\n",
       "    [0.4169730246067047,\n",
       "     -0.022036394104361534,\n",
       "     -0.02404852770268917,\n",
       "     0.33149805665016174,\n",
       "     0.10844071209430695,\n",
       "     -0.25959524512290955,\n",
       "     0.02713972143828869,\n",
       "     0.005249979440122843,\n",
       "     -0.3045799136161804,\n",
       "     -0.53950434923172,\n",
       "     0.0019521538633853197,\n",
       "     0.11642161011695862,\n",
       "     0.1585088074207306,\n",
       "     -0.40965735912323,\n",
       "     0.1827041506767273,\n",
       "     -0.008208598010241985],\n",
       "    [0.3087541162967682,\n",
       "     0.3623913824558258,\n",
       "     0.5005401968955994,\n",
       "     0.30651500821113586,\n",
       "     -0.6817643046379089,\n",
       "     -0.47381412982940674,\n",
       "     -1.0479168891906738,\n",
       "     0.5235039591789246,\n",
       "     0.3144211769104004,\n",
       "     -0.016522223129868507,\n",
       "     0.4945857524871826,\n",
       "     0.19951751828193665,\n",
       "     0.5416309833526611,\n",
       "     0.07596232742071152,\n",
       "     0.28707197308540344,\n",
       "     0.16157488524913788]],\n",
       "   'biases': [-0.051865994930267334,\n",
       "    -0.135383740067482,\n",
       "    -0.20290672779083252,\n",
       "    0.03921088948845863,\n",
       "    0.11837867647409439,\n",
       "    0.0,\n",
       "    0.13745982944965363,\n",
       "    -0.405420184135437,\n",
       "    0.1089460700750351,\n",
       "    0.02301967330276966,\n",
       "    0.04282623901963234,\n",
       "    -0.027158712968230247,\n",
       "    -0.12495105713605881,\n",
       "    -0.09291797131299973,\n",
       "    -0.08318977802991867,\n",
       "    -0.18109863996505737]},\n",
       "  {'activation': 'relu',\n",
       "   'weights': [[-0.45721670985221863,\n",
       "     0.36371609568595886,\n",
       "     -0.18037621676921844,\n",
       "     0.08617984503507614,\n",
       "     -0.10020067542791367,\n",
       "     0.0014097559032961726,\n",
       "     -0.01397716999053955,\n",
       "     -0.3417125940322876],\n",
       "    [0.2709604799747467,\n",
       "     0.2531306743621826,\n",
       "     -0.03414589911699295,\n",
       "     -3.400634765625,\n",
       "     0.03892139717936516,\n",
       "     -0.1607084721326828,\n",
       "     0.2832961082458496,\n",
       "     0.10097157955169678],\n",
       "    [-0.4251288175582886,\n",
       "     -0.39256396889686584,\n",
       "     0.09132003784179688,\n",
       "     -0.23725764453411102,\n",
       "     0.6893159747123718,\n",
       "     -0.31290173530578613,\n",
       "     -0.25128912925720215,\n",
       "     -0.14060711860656738],\n",
       "    [0.3814171552658081,\n",
       "     0.14286643266677856,\n",
       "     0.20744800567626953,\n",
       "     -0.011191272176802158,\n",
       "     0.41466155648231506,\n",
       "     -0.42649081349372864,\n",
       "     -0.4522479772567749,\n",
       "     -0.11835336685180664],\n",
       "    [-0.38241833448410034,\n",
       "     0.2602546215057373,\n",
       "     0.40950852632522583,\n",
       "     0.09779153019189835,\n",
       "     -0.35502174496650696,\n",
       "     0.04755621775984764,\n",
       "     0.17297589778900146,\n",
       "     0.079537034034729],\n",
       "    [0.04599440097808838,\n",
       "     -0.3414957523345947,\n",
       "     0.32582855224609375,\n",
       "     -0.35420095920562744,\n",
       "     -0.0824660062789917,\n",
       "     0.02605724334716797,\n",
       "     0.2630993127822876,\n",
       "     0.2504962682723999],\n",
       "    [-0.1689077615737915,\n",
       "     -0.5559858679771423,\n",
       "     -0.2283678948879242,\n",
       "     0.44406020641326904,\n",
       "     0.16926319897174835,\n",
       "     0.47121739387512207,\n",
       "     0.4916926622390747,\n",
       "     -0.4270491600036621],\n",
       "    [0.2092050313949585,\n",
       "     0.48301342129707336,\n",
       "     -0.3657369613647461,\n",
       "     0.08357226848602295,\n",
       "     -0.4023993909358978,\n",
       "     0.08356094360351562,\n",
       "     0.3327341079711914,\n",
       "     0.16125214099884033],\n",
       "    [-0.04045545309782028,\n",
       "     0.40849053859710693,\n",
       "     -0.322429895401001,\n",
       "     0.1846965104341507,\n",
       "     -0.36435219645500183,\n",
       "     -0.4511968493461609,\n",
       "     -0.05307912826538086,\n",
       "     0.07183253765106201],\n",
       "    [-0.5155174136161804,\n",
       "     0.013202873058617115,\n",
       "     0.47204136848449707,\n",
       "     0.49627530574798584,\n",
       "     -0.34267085790634155,\n",
       "     0.24888654053211212,\n",
       "     -0.257635235786438,\n",
       "     -0.0009083747863769531],\n",
       "    [-0.26016876101493835,\n",
       "     0.12742996215820312,\n",
       "     -0.23311546444892883,\n",
       "     0.2784201204776764,\n",
       "     0.4527656137943268,\n",
       "     0.36968228220939636,\n",
       "     -0.3261110782623291,\n",
       "     -0.24419116973876953],\n",
       "    [-0.2670031189918518,\n",
       "     -0.1274440437555313,\n",
       "     -0.4974692165851593,\n",
       "     -0.2716003954410553,\n",
       "     0.06201517581939697,\n",
       "     -0.48278459906578064,\n",
       "     0.09100353717803955,\n",
       "     0.48732030391693115],\n",
       "    [0.06694185733795166,\n",
       "     0.5423213243484497,\n",
       "     0.30029335618019104,\n",
       "     -0.2602654695510864,\n",
       "     0.23387029767036438,\n",
       "     -0.26041820645332336,\n",
       "     -0.28614330291748047,\n",
       "     -0.021339058876037598],\n",
       "    [0.41482973098754883,\n",
       "     0.21402065455913544,\n",
       "     -0.26185739040374756,\n",
       "     -0.561230480670929,\n",
       "     0.43670982122421265,\n",
       "     -0.28783878684043884,\n",
       "     -0.014467954635620117,\n",
       "     -0.19898784160614014],\n",
       "    [-0.02823956497013569,\n",
       "     0.09542258083820343,\n",
       "     -0.3251337707042694,\n",
       "     -0.021659376099705696,\n",
       "     -0.3620840907096863,\n",
       "     0.45004168152809143,\n",
       "     -0.4622979164123535,\n",
       "     -0.29974067211151123],\n",
       "    [0.22741484642028809,\n",
       "     0.17501232028007507,\n",
       "     -0.10296893119812012,\n",
       "     0.9117356538772583,\n",
       "     -0.5788694620132446,\n",
       "     -0.3812256157398224,\n",
       "     0.32889044284820557,\n",
       "     -0.35695552825927734]],\n",
       "   'biases': [-0.022594112902879715,\n",
       "    -0.0017149499617516994,\n",
       "    -0.0210123173892498,\n",
       "    -0.145577073097229,\n",
       "    0.07587410509586334,\n",
       "    -0.013835441321134567,\n",
       "    0.0,\n",
       "    0.0]},\n",
       "  {'activation': 'linear',\n",
       "   'weights': [[0.5856579542160034],\n",
       "    [0.6663092970848083],\n",
       "    [0.09420187026262283],\n",
       "    [-0.6474980115890503],\n",
       "    [-0.6447522640228271],\n",
       "    [-0.2699783146381378],\n",
       "    [-0.5199392437934875],\n",
       "    [0.4109450578689575]],\n",
       "   'biases': [0.007828311063349247]}]}"
      ]
     },
     "execution_count": 17,
     "metadata": {},
     "output_type": "execute_result"
    }
   ],
   "source": [
    "model_as_json = JsonHandle().convert_tensorflow_model_to_json(tensorflow_model = model)\n",
    "model_as_json"
   ]
  },
  {
   "cell_type": "code",
   "execution_count": 18,
   "metadata": {},
   "outputs": [
    {
     "name": "stdout",
     "output_type": "stream",
     "text": [
      "Model C++ saved!\n"
     ]
    }
   ],
   "source": [
    "cpp_model = CppGeneration().generate_cpp_from_json(json_data = model_as_json, file_name = 'tensorflow_model')"
   ]
  },
  {
   "cell_type": "code",
   "execution_count": 19,
   "metadata": {},
   "outputs": [
    {
     "data": {
      "text/plain": [
       "{'num_layers': 3,\n",
       " 'model_quantized': 'evolving',\n",
       " 'layers': [{'activation': 'relu',\n",
       "   'weights': [[0, 0, 0, 0, 3, 2, 4, 4, 3, 0, 3, 0, 2, 3, 0, 3],\n",
       "    [3, 4, 4, 3, 0, 2, 4, 4, 2, 1, 4, 0, 0, 2, 0, 4],\n",
       "    [3, 3, 3, 3, 1, 2, 1, 3, 3, 4, 3, 0, 3, 4, 0, 0]],\n",
       "   'biases': [0, 1, 1, 0, 0, 0, 0, 1, 0, 0, 0, 0, 1, 1, 1, 1]},\n",
       "  {'activation': 'relu',\n",
       "   'weights': [[2, 3, 2, 4, 4, 4, 4, 2],\n",
       "    [0, 0, 4, 1, 4, 2, 0, 0],\n",
       "    [2, 2, 4, 2, 3, 2, 2, 2],\n",
       "    [3, 0, 0, 4, 3, 2, 2, 2],\n",
       "    [2, 0, 3, 0, 2, 4, 0, 4],\n",
       "    [4, 2, 3, 2, 4, 4, 0, 0],\n",
       "    [2, 1, 2, 3, 0, 3, 3, 2],\n",
       "    [0, 3, 2, 4, 2, 4, 3, 0],\n",
       "    [4, 3, 2, 0, 2, 2, 4, 4],\n",
       "    [1, 4, 3, 3, 2, 0, 2, 4],\n",
       "    [2, 0, 2, 0, 3, 3, 2, 2],\n",
       "    [2, 2, 1, 2, 4, 1, 4, 3],\n",
       "    [4, 3, 3, 2, 0, 2, 2, 4],\n",
       "    [3, 0, 2, 1, 3, 2, 4, 2],\n",
       "    [4, 4, 2, 4, 2, 3, 2, 2],\n",
       "    [0, 0, 4, 3, 1, 2, 3, 2]],\n",
       "   'biases': [0, 0, 0, 1, 0, 0, 0, 0]},\n",
       "  {'activation': 'linear',\n",
       "   'weights': [[3], [3], [4], [1], [1], [2], [1], [3]],\n",
       "   'biases': [0]}],\n",
       " 'centers_bias': [-0.012710170955167485, -0.14314087876118722],\n",
       " 'centers_weights': [0.11051739924353744,\n",
       "  -0.6461251378059387,\n",
       "  -0.3112576329145405,\n",
       "  0.47918015367844524,\n",
       "  0.08097928288308055]}"
      ]
     },
     "execution_count": 19,
     "metadata": {},
     "output_type": "execute_result"
    }
   ],
   "source": [
    "\n",
    "Clustering_method = ClusteringMethods()\n",
    "\n",
    "bias_clustering_method = Clustering_method.autocloud_biases(threshold_biases = 1.4148)\n",
    "weight_clustering_method = Clustering_method.autocloud_weight(threshold_weights = 1.4148)\n",
    "Quantization().post_training_quantization(json_data = model_as_json, quantization_type = 'evolving', distance_metric = \"euclidean\", \n",
    "        bias_clustering_method = bias_clustering_method,\n",
    "        weight_clustering_method = weight_clustering_method)"
   ]
  },
  {
   "cell_type": "code",
   "execution_count": 20,
   "metadata": {},
   "outputs": [
    {
     "name": "stdout",
     "output_type": "stream",
     "text": [
      "Model C++ saved!\n"
     ]
    }
   ],
   "source": [
    "cpp_model = CppGeneration().generate_cpp_from_json(json_data = model_as_json, file_name = 'tensorflow_evolving')"
   ]
  },
  {
   "cell_type": "code",
   "execution_count": 21,
   "metadata": {},
   "outputs": [],
   "source": [
    "model_as_json_int8 = Quantization().post_training_quantization(json_data = model_as_json,\n",
    "                                        quantization_type = 'int8')"
   ]
  },
  {
   "cell_type": "code",
   "execution_count": 22,
   "metadata": {},
   "outputs": [
    {
     "data": {
      "text/plain": [
       "{'num_layers': 3,\n",
       " 'model_quantized': 'int8',\n",
       " 'layers': [{'activation': 'relu',\n",
       "   'weights': [[214,\n",
       "     216,\n",
       "     209,\n",
       "     217,\n",
       "     221,\n",
       "     191,\n",
       "     205,\n",
       "     203,\n",
       "     235,\n",
       "     217,\n",
       "     222,\n",
       "     212,\n",
       "     185,\n",
       "     225,\n",
       "     215,\n",
       "     234],\n",
       "    [225,\n",
       "     199,\n",
       "     199,\n",
       "     220,\n",
       "     207,\n",
       "     185,\n",
       "     202,\n",
       "     201,\n",
       "     183,\n",
       "     169,\n",
       "     201,\n",
       "     207,\n",
       "     210,\n",
       "     176,\n",
       "     211,\n",
       "     200],\n",
       "    [219,\n",
       "     222,\n",
       "     230,\n",
       "     219,\n",
       "     160,\n",
       "     173,\n",
       "     139,\n",
       "     232,\n",
       "     219,\n",
       "     200,\n",
       "     230,\n",
       "     212,\n",
       "     233,\n",
       "     205,\n",
       "     218,\n",
       "     210]],\n",
       "   'biases': [198,\n",
       "    193,\n",
       "    189,\n",
       "    203,\n",
       "    208,\n",
       "    201,\n",
       "    209,\n",
       "    177,\n",
       "    207,\n",
       "    202,\n",
       "    203,\n",
       "    199,\n",
       "    193,\n",
       "    195,\n",
       "    196,\n",
       "    190]},\n",
       "  {'activation': 'relu',\n",
       "   'weights': [[174, 222, 190, 206, 195, 201, 200, 180],\n",
       "    [217, 216, 199, 0, 203, 191, 217, 207],\n",
       "    [175, 177, 206, 187, 241, 182, 186, 192],\n",
       "    [223, 209, 213, 200, 225, 175, 174, 194],\n",
       "    [178, 216, 225, 206, 180, 203, 211, 205],\n",
       "    [203, 180, 220, 180, 196, 202, 216, 215],\n",
       "    [191, 168, 187, 227, 211, 228, 230, 175],\n",
       "    [213, 229, 179, 206, 177, 206, 220, 210],\n",
       "    [198, 225, 182, 212, 179, 174, 197, 205],\n",
       "    [170, 201, 228, 230, 180, 215, 185, 201],\n",
       "    [185, 208, 187, 217, 227, 222, 181, 186],\n",
       "    [185, 193, 171, 185, 204, 172, 206, 229],\n",
       "    [205, 233, 218, 185, 214, 185, 184, 199],\n",
       "    [225, 213, 185, 167, 226, 184, 200, 189],\n",
       "    [199, 206, 181, 199, 179, 227, 173, 183],\n",
       "    [214, 211, 194, 255, 166, 178, 220, 179]],\n",
       "   'biases': [199, 200, 199, 192, 205, 200, 201, 201]},\n",
       "  {'activation': 'linear',\n",
       "   'weights': [[235], [240], [206], [162], [162], [185], [170], [225]],\n",
       "   'biases': [201]}],\n",
       " 'max_value': 0.9117356538772583,\n",
       " 'min_value': -3.400634765625}"
      ]
     },
     "execution_count": 22,
     "metadata": {},
     "output_type": "execute_result"
    }
   ],
   "source": [
    "model_as_json_int8"
   ]
  },
  {
   "cell_type": "code",
   "execution_count": 23,
   "metadata": {},
   "outputs": [
    {
     "name": "stdout",
     "output_type": "stream",
     "text": [
      "Model C++ saved!\n"
     ]
    }
   ],
   "source": [
    "cpp_model_int8 = CppGeneration().generate_cpp_from_json(json_data = model_as_json_int8, file_name = 'tensorflow_int8')"
   ]
  }
 ],
 "metadata": {
  "kernelspec": {
   "display_name": ".venv",
   "language": "python",
   "name": "python3"
  },
  "language_info": {
   "codemirror_mode": {
    "name": "ipython",
    "version": 3
   },
   "file_extension": ".py",
   "mimetype": "text/x-python",
   "name": "python",
   "nbconvert_exporter": "python",
   "pygments_lexer": "ipython3",
   "version": "3.9.6"
  }
 },
 "nbformat": 4,
 "nbformat_minor": 2
}
