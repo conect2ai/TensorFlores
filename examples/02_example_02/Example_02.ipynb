{
 "cells": [
  {
   "cell_type": "markdown",
   "metadata": {},
   "source": [
    "# Example 02"
   ]
  },
  {
   "cell_type": "markdown",
   "metadata": {},
   "source": [
    "## 1. Importing libraries"
   ]
  },
  {
   "cell_type": "code",
   "execution_count": 1,
   "metadata": {},
   "outputs": [],
   "source": [
    "import sys, os\n",
    "path = os.getcwd().split('\\\\examples')[0]\n",
    "sys.path.append(path)"
   ]
  },
  {
   "cell_type": "code",
   "execution_count": 2,
   "metadata": {},
   "outputs": [],
   "source": [
    "import pandas as pd\n",
    "import numpy as np\n",
    "import matplotlib.pyplot as plt\n",
    "import seaborn as sns\n",
    "from sklearn.model_selection import train_test_split\n",
    "from sklearn.preprocessing import MinMaxScaler\n",
    "from tensorflores.models.multilayer_perceptron import MultilayerPerceptron\n",
    "from tensorflores.utils.clustering import ClusteringMethods"
   ]
  },
  {
   "cell_type": "markdown",
   "metadata": {},
   "source": [
    "## 2. Load Dataset"
   ]
  },
  {
   "cell_type": "code",
   "execution_count": 3,
   "metadata": {},
   "outputs": [
    {
     "data": {
      "text/html": [
       "<div>\n",
       "<style scoped>\n",
       "    .dataframe tbody tr th:only-of-type {\n",
       "        vertical-align: middle;\n",
       "    }\n",
       "\n",
       "    .dataframe tbody tr th {\n",
       "        vertical-align: top;\n",
       "    }\n",
       "\n",
       "    .dataframe thead th {\n",
       "        text-align: right;\n",
       "    }\n",
       "</style>\n",
       "<table border=\"1\" class=\"dataframe\">\n",
       "  <thead>\n",
       "    <tr style=\"text-align: right;\">\n",
       "      <th></th>\n",
       "      <th>CO2 (g/s) [estimated maf]</th>\n",
       "      <th>CO2 (g/s) [maf]</th>\n",
       "      <th>estimated_maf</th>\n",
       "      <th>intake_pressure</th>\n",
       "      <th>intake_temperature</th>\n",
       "      <th>latitude</th>\n",
       "      <th>longitude</th>\n",
       "      <th>maf</th>\n",
       "      <th>rpm</th>\n",
       "      <th>speed</th>\n",
       "    </tr>\n",
       "  </thead>\n",
       "  <tbody>\n",
       "    <tr>\n",
       "      <th>0</th>\n",
       "      <td>0.809921</td>\n",
       "      <td>0.639659</td>\n",
       "      <td>3.798529</td>\n",
       "      <td>26.0</td>\n",
       "      <td>54.0</td>\n",
       "      <td>-5.793477</td>\n",
       "      <td>-35.198093</td>\n",
       "      <td>3.0</td>\n",
       "      <td>1568.0</td>\n",
       "      <td>43.0</td>\n",
       "    </tr>\n",
       "    <tr>\n",
       "      <th>1</th>\n",
       "      <td>1.796942</td>\n",
       "      <td>2.132196</td>\n",
       "      <td>8.427658</td>\n",
       "      <td>57.0</td>\n",
       "      <td>53.0</td>\n",
       "      <td>-5.793538</td>\n",
       "      <td>-35.198116</td>\n",
       "      <td>10.0</td>\n",
       "      <td>1582.0</td>\n",
       "      <td>43.0</td>\n",
       "    </tr>\n",
       "    <tr>\n",
       "      <th>2</th>\n",
       "      <td>2.199995</td>\n",
       "      <td>2.132196</td>\n",
       "      <td>10.317979</td>\n",
       "      <td>69.0</td>\n",
       "      <td>53.0</td>\n",
       "      <td>-5.793600</td>\n",
       "      <td>-35.198139</td>\n",
       "      <td>10.0</td>\n",
       "      <td>1600.0</td>\n",
       "      <td>43.0</td>\n",
       "    </tr>\n",
       "    <tr>\n",
       "      <th>3</th>\n",
       "      <td>1.226761</td>\n",
       "      <td>0.639659</td>\n",
       "      <td>5.753511</td>\n",
       "      <td>38.0</td>\n",
       "      <td>54.0</td>\n",
       "      <td>-5.793665</td>\n",
       "      <td>-35.198170</td>\n",
       "      <td>3.0</td>\n",
       "      <td>1625.0</td>\n",
       "      <td>44.0</td>\n",
       "    </tr>\n",
       "    <tr>\n",
       "      <th>4</th>\n",
       "      <td>0.756202</td>\n",
       "      <td>0.426439</td>\n",
       "      <td>3.546585</td>\n",
       "      <td>24.0</td>\n",
       "      <td>54.0</td>\n",
       "      <td>-5.793739</td>\n",
       "      <td>-35.198196</td>\n",
       "      <td>2.0</td>\n",
       "      <td>1586.0</td>\n",
       "      <td>45.0</td>\n",
       "    </tr>\n",
       "  </tbody>\n",
       "</table>\n",
       "</div>"
      ],
      "text/plain": [
       "   CO2 (g/s) [estimated maf]  CO2 (g/s) [maf]  estimated_maf  intake_pressure  \\\n",
       "0                   0.809921         0.639659       3.798529             26.0   \n",
       "1                   1.796942         2.132196       8.427658             57.0   \n",
       "2                   2.199995         2.132196      10.317979             69.0   \n",
       "3                   1.226761         0.639659       5.753511             38.0   \n",
       "4                   0.756202         0.426439       3.546585             24.0   \n",
       "\n",
       "   intake_temperature  latitude  longitude   maf     rpm  speed  \n",
       "0                54.0 -5.793477 -35.198093   3.0  1568.0   43.0  \n",
       "1                53.0 -5.793538 -35.198116  10.0  1582.0   43.0  \n",
       "2                53.0 -5.793600 -35.198139  10.0  1600.0   43.0  \n",
       "3                54.0 -5.793665 -35.198170   3.0  1625.0   44.0  \n",
       "4                54.0 -5.793739 -35.198196   2.0  1586.0   45.0  "
      ]
     },
     "execution_count": 3,
     "metadata": {},
     "output_type": "execute_result"
    }
   ],
   "source": [
    "df = pd.read_csv(path + '\\\\data\\\\emission_total.csv')\n",
    "df.head(5)"
   ]
  },
  {
   "cell_type": "code",
   "execution_count": 4,
   "metadata": {},
   "outputs": [],
   "source": [
    "scaler = MinMaxScaler()"
   ]
  },
  {
   "cell_type": "code",
   "execution_count": 5,
   "metadata": {},
   "outputs": [],
   "source": [
    "values_df = scaler.fit_transform(df[['intake_pressure', 'intake_temperature', 'speed', 'CO2 (g/s) [maf]']])"
   ]
  },
  {
   "cell_type": "code",
   "execution_count": 6,
   "metadata": {},
   "outputs": [],
   "source": [
    "X = values_df[:,0:3]\n",
    "y = values_df[:,3:]"
   ]
  },
  {
   "cell_type": "markdown",
   "metadata": {},
   "source": [
    "## 3. Splitting the data"
   ]
  },
  {
   "cell_type": "code",
   "execution_count": 7,
   "metadata": {},
   "outputs": [],
   "source": [
    "X_train, X_test, y_train, y_test  = train_test_split(X, y, test_size=0.2, random_state=42)"
   ]
  },
  {
   "cell_type": "code",
   "execution_count": 8,
   "metadata": {},
   "outputs": [],
   "source": [
    "y_train = y_train.reshape(-1, 1)\n",
    "y_test = y_test.reshape(-1, 1)"
   ]
  },
  {
   "cell_type": "markdown",
   "metadata": {},
   "source": [
    "## 4. Define the model"
   ]
  },
  {
   "cell_type": "markdown",
   "metadata": {},
   "source": [
    "### 4.1 Define hidden layers and neurons"
   ]
  },
  {
   "cell_type": "code",
   "execution_count": 9,
   "metadata": {},
   "outputs": [],
   "source": [
    "hidden_layer_sizes = [16, 8]             "
   ]
  },
  {
   "cell_type": "markdown",
   "metadata": {},
   "source": [
    "### 4.2 Define activaction functions"
   ]
  },
  {
   "cell_type": "code",
   "execution_count": 10,
   "metadata": {},
   "outputs": [
    {
     "data": {
      "text/plain": [
       "['relu', 'relu', 'linear']"
      ]
     },
     "execution_count": 10,
     "metadata": {},
     "output_type": "execute_result"
    }
   ],
   "source": [
    "['relu', 'relu', 'linear']"
   ]
  },
  {
   "cell_type": "code",
   "execution_count": 11,
   "metadata": {},
   "outputs": [],
   "source": [
    "activation_functions = ['relu', # Hidden layer (16 neurons)\n",
    "                        'relu', # Hidden layer (8 neurons)\n",
    "                       'linear'] # Output layer (8 neurons)"
   ]
  },
  {
   "cell_type": "markdown",
   "metadata": {},
   "source": [
    "### 4.3 Define input and output size"
   ]
  },
  {
   "cell_type": "code",
   "execution_count": 12,
   "metadata": {},
   "outputs": [],
   "source": [
    "input_size = X.shape[1]\n",
    "output_size = y.shape[1]"
   ]
  },
  {
   "cell_type": "markdown",
   "metadata": {},
   "source": [
    "### 4.4 Activates quantization-aware training"
   ]
  },
  {
   "cell_type": "code",
   "execution_count": 13,
   "metadata": {},
   "outputs": [],
   "source": [
    "training_with_quantization = True"
   ]
  },
  {
   "cell_type": "markdown",
   "metadata": {},
   "source": [
    "### 4.5 Define the type of weight initialisation"
   ]
  },
  {
   "cell_type": "code",
   "execution_count": 14,
   "metadata": {},
   "outputs": [],
   "source": [
    "weight_bias_init = 'RandomNormal'"
   ]
  },
  {
   "cell_type": "markdown",
   "metadata": {},
   "source": [
    "### 4.6 Create the TensorFlores class"
   ]
  },
  {
   "cell_type": "code",
   "execution_count": 15,
   "metadata": {},
   "outputs": [],
   "source": [
    "nn = MultilayerPerceptron(input_size = input_size,\n",
    "                            hidden_layer_sizes = hidden_layer_sizes,\n",
    "                            output_size = output_size ,\n",
    "                            activation_functions = activation_functions,\n",
    "                            weight_bias_init = weight_bias_init,\n",
    "                            training_with_quantization = training_with_quantization)\n"
   ]
  },
  {
   "cell_type": "markdown",
   "metadata": {},
   "source": [
    "### 4.7 Choose the quantization method\n",
    "\n",
    "- Autocloud \n",
    "    - bias_clustering_method = Clustering_method.autocloud_biases(threshold_biases = 1.4148)\n",
    "    - weight_clustering_method = Clustering_method.autocloud_weight(threshold_weights = 1.4148)\n",
    "\n",
    "- Meanshift\n",
    "    - weight_clustering_method = Clustering_method.meanshift_weight(bandwidth_weights = 0.005)\n",
    "    - bias_clustering_method = Clustering_method.meanshift_biases(bandwidth_biases = 0.005)\n",
    "\n",
    "- Affinity Propagation\n",
    "    - weight_clustering_method = Clustering_method.affinity_propagation_weight(affinityprop_damping_bias = 0.65)\n",
    "    - bias_clustering_method = Clustering_method.affinity_propagation_biases(affinityprop_damping_weight = 0.7)\n",
    "\n",
    "- DBSTREAM\n",
    "    - weight_clustering_method = Clustering_method.dbstream_weight(clustering_threshold_bias = 0.8)\n",
    "    - bias_clustering_method = Clustering_method.dbstream_biases(clustering_threshold_weight = 0.1)"
   ]
  },
  {
   "cell_type": "code",
   "execution_count": 16,
   "metadata": {},
   "outputs": [],
   "source": [
    "Clustering_method = ClusteringMethods()\n",
    "\n",
    "bias_clustering_method = Clustering_method.autocloud_biases(threshold_biases = 1.4148)\n",
    "weight_clustering_method = Clustering_method.autocloud_weight(threshold_weights = 1.4148)"
   ]
  },
  {
   "cell_type": "markdown",
   "metadata": {},
   "source": [
    "### 4.8 Define training epochs"
   ]
  },
  {
   "cell_type": "code",
   "execution_count": 17,
   "metadata": {},
   "outputs": [],
   "source": [
    "epochs =  100\n",
    "epochs_quantization = epochs"
   ]
  },
  {
   "cell_type": "markdown",
   "metadata": {},
   "source": [
    "### 4.9 Define the batch size"
   ]
  },
  {
   "cell_type": "code",
   "execution_count": 18,
   "metadata": {},
   "outputs": [],
   "source": [
    "batch_size = 36"
   ]
  },
  {
   "cell_type": "markdown",
   "metadata": {},
   "source": [
    "### 4.9 Define the loss function\n",
    "\n",
    "- 'mean_squared_error'\n",
    "- 'cross_entropy'\n",
    "- 'mean_absolute_error'\n",
    "- 'binary_cross_entropy'"
   ]
  },
  {
   "cell_type": "code",
   "execution_count": 19,
   "metadata": {},
   "outputs": [],
   "source": [
    "loss_function = 'mean_squared_error'"
   ]
  },
  {
   "cell_type": "markdown",
   "metadata": {},
   "source": [
    "### 4.10 Define the metric to calculate the distance between the centroids of the clusters and the values of weights and/or biases\n",
    "\n",
    "- \"euclidean\"\n",
    "- \"manhattan\"\n",
    "- \"minkowski\"\n",
    "- \"chebyshev\"\n",
    "- \"cosine\"\n",
    "- \"hamming\"\n",
    "- \"bray_curtis\"\n",
    "- \"jaccard\"\n",
    "- \"wasserstein\"\n",
    "- \"dtw\""
   ]
  },
  {
   "cell_type": "code",
   "execution_count": 20,
   "metadata": {},
   "outputs": [],
   "source": [
    "distance_metric = \"euclidean\""
   ]
  },
  {
   "cell_type": "markdown",
   "metadata": {},
   "source": [
    "### 4.10 Define the optimizer\n",
    "\n",
    "- 'sgd'\n",
    "- 'adam'\n",
    "- 'adamax'"
   ]
  },
  {
   "cell_type": "code",
   "execution_count": 21,
   "metadata": {},
   "outputs": [],
   "source": [
    "optimizer = 'sgd'"
   ]
  },
  {
   "cell_type": "code",
   "execution_count": 22,
   "metadata": {},
   "outputs": [
    {
     "name": "stdout",
     "output_type": "stream",
     "text": [
      "Epoch 1/100, Loss: 0.10072994797778839, Val Loss: 0.06287218274927675\n",
      "Epoch 1/100, Loss: 0.20489693979250828, Val Loss: 6.893512014567428, Bias Clusters: 2, Weight Clusters: 4\n",
      "Epoch 2/100, Loss: 4.795046155343399, Val Loss: 14.791769105497718, Bias Clusters: 3, Weight Clusters: 5\n",
      "Epoch 3/100, Loss: 7.205137178918047, Val Loss: 268.8987792935452, Bias Clusters: 3, Weight Clusters: 7\n",
      "Epoch 4/100, Loss: 3.467005454671355, Val Loss: 11.958441714738678, Bias Clusters: 3, Weight Clusters: 5\n",
      "Epoch 5/100, Loss: 3.662199250964253, Val Loss: 0.04999424740865841, Bias Clusters: 3, Weight Clusters: 5\n",
      "Epoch 6/100, Loss: 0.03702545545527812, Val Loss: 0.04999424740865841, Bias Clusters: 3, Weight Clusters: 5\n",
      "Epoch 7/100, Loss: 0.04380092267480405, Val Loss: 0.04999424740865841, Bias Clusters: 3, Weight Clusters: 5\n",
      "Epoch 8/100, Loss: 0.03132087664224897, Val Loss: 0.04999424740865841, Bias Clusters: 3, Weight Clusters: 5\n",
      "Epoch 9/100, Loss: 0.07130175679233544, Val Loss: 0.0499303690445834, Bias Clusters: 3, Weight Clusters: 5\n",
      "Epoch 10/100, Loss: 0.05242603107147023, Val Loss: 7.849045037831005, Bias Clusters: 3, Weight Clusters: 5\n",
      "Epoch 11/100, Loss: 0.06464811451394403, Val Loss: 34.82826380286242, Bias Clusters: 3, Weight Clusters: 5\n",
      "Epoch 12/100, Loss: 0.03883729938720354, Val Loss: 106.08891345203097, Bias Clusters: 3, Weight Clusters: 5\n",
      "Epoch 13/100, Loss: 4.073665051423511, Val Loss: 0.05007691919925116, Bias Clusters: 3, Weight Clusters: 5\n",
      "Epoch 14/100, Loss: 0.035523348118177506, Val Loss: 0.05007691919925116, Bias Clusters: 3, Weight Clusters: 5\n",
      "Epoch 15/100, Loss: 0.0439066037948713, Val Loss: 0.05007691919925116, Bias Clusters: 3, Weight Clusters: 5\n",
      "Epoch 16/100, Loss: 0.032079310958554944, Val Loss: 0.05007691919925116, Bias Clusters: 3, Weight Clusters: 5\n",
      "Epoch 17/100, Loss: 0.04628799689593355, Val Loss: 0.05007691919925116, Bias Clusters: 3, Weight Clusters: 5\n",
      "Epoch 18/100, Loss: 0.06502114650956073, Val Loss: 0.050076739448116935, Bias Clusters: 3, Weight Clusters: 5\n",
      "Epoch 19/100, Loss: 0.0704568331985062, Val Loss: 0.05007654619493541, Bias Clusters: 3, Weight Clusters: 5\n",
      "Epoch 20/100, Loss: 0.032005961355660896, Val Loss: 0.05007634018095265, Bias Clusters: 3, Weight Clusters: 5\n",
      "Epoch 21/100, Loss: 0.049496776257992314, Val Loss: 0.05007612248820216, Bias Clusters: 3, Weight Clusters: 5\n",
      "Epoch 22/100, Loss: 0.0420714038829365, Val Loss: 0.050075894107911925, Bias Clusters: 3, Weight Clusters: 5\n",
      "Epoch 23/100, Loss: 0.046348028019560665, Val Loss: 0.050075656875390735, Bias Clusters: 3, Weight Clusters: 5\n",
      "Epoch 24/100, Loss: 0.01896767523353586, Val Loss: 0.050075445763643915, Bias Clusters: 3, Weight Clusters: 5\n",
      "Epoch 25/100, Loss: 0.010910594191526877, Val Loss: 0.5680586164579868, Bias Clusters: 3, Weight Clusters: 5\n",
      "Epoch 26/100, Loss: 0.04058569626258151, Val Loss: 9.452731455548271, Bias Clusters: 3, Weight Clusters: 5\n",
      "Epoch 27/100, Loss: 0.04050373425132102, Val Loss: 29.59634815102987, Bias Clusters: 3, Weight Clusters: 5\n",
      "Epoch 28/100, Loss: 0.008856015173782957, Val Loss: 59.77108907099372, Bias Clusters: 3, Weight Clusters: 5\n",
      "Epoch 29/100, Loss: 0.011063048180423316, Val Loss: 98.6403257298841, Bias Clusters: 3, Weight Clusters: 5\n",
      "Epoch 30/100, Loss: 0.022220499428149666, Val Loss: 144.60694973747624, Bias Clusters: 3, Weight Clusters: 5\n",
      "Epoch 31/100, Loss: 0.030216206555634176, Val Loss: 187.25162935130177, Bias Clusters: 3, Weight Clusters: 5\n",
      "Epoch 32/100, Loss: 0.017370383762071465, Val Loss: 221.1929989937158, Bias Clusters: 3, Weight Clusters: 5\n",
      "Epoch 33/100, Loss: 0.025560738849592854, Val Loss: 241.8897723404704, Bias Clusters: 3, Weight Clusters: 5\n",
      "Epoch 34/100, Loss: 0.019216271460405467, Val Loss: 247.14788025110934, Bias Clusters: 3, Weight Clusters: 5\n",
      "Epoch 35/100, Loss: 0.017507725920004158, Val Loss: 236.11362357154186, Bias Clusters: 3, Weight Clusters: 5\n",
      "Epoch 36/100, Loss: 0.030109424223044863, Val Loss: 210.65720563167196, Bias Clusters: 3, Weight Clusters: 5\n",
      "Epoch 37/100, Loss: 0.02351677059078406, Val Loss: 174.90336766140135, Bias Clusters: 3, Weight Clusters: 5\n",
      "Epoch 38/100, Loss: 0.037076230396564824, Val Loss: 133.75052307237513, Bias Clusters: 3, Weight Clusters: 5\n",
      "Epoch 39/100, Loss: 0.023804307033416863, Val Loss: 99.1586016910267, Bias Clusters: 3, Weight Clusters: 5\n",
      "Epoch 40/100, Loss: 0.021092997872688993, Val Loss: 72.605919797465, Bias Clusters: 3, Weight Clusters: 5\n",
      "Epoch 41/100, Loss: 0.03381646209195569, Val Loss: 46.68793041983738, Bias Clusters: 3, Weight Clusters: 5\n",
      "Epoch 42/100, Loss: 0.02582399591082412, Val Loss: 24.219632487453996, Bias Clusters: 3, Weight Clusters: 5\n",
      "Epoch 43/100, Loss: 0.024235184000317284, Val Loss: 8.205295492272771, Bias Clusters: 3, Weight Clusters: 5\n",
      "Epoch 44/100, Loss: 0.02416534785637197, Val Loss: 0.5414157993901153, Bias Clusters: 3, Weight Clusters: 5\n",
      "Epoch 45/100, Loss: 0.022642314260761985, Val Loss: 0.05007749120605194, Bias Clusters: 3, Weight Clusters: 6\n",
      "Epoch 46/100, Loss: 0.02539019611928891, Val Loss: 0.05007796162534731, Bias Clusters: 3, Weight Clusters: 6\n",
      "Epoch 47/100, Loss: 0.03901156247416617, Val Loss: 0.05007846177091196, Bias Clusters: 3, Weight Clusters: 5\n",
      "Epoch 48/100, Loss: 0.038372704435661015, Val Loss: 0.05509918744523507, Bias Clusters: 3, Weight Clusters: 5\n",
      "Epoch 49/100, Loss: 0.024495840265352814, Val Loss: 0.050078874162339616, Bias Clusters: 3, Weight Clusters: 6\n",
      "Epoch 50/100, Loss: 0.023824539935082507, Val Loss: 0.0500793140166078, Bias Clusters: 3, Weight Clusters: 6\n",
      "Epoch 51/100, Loss: 0.02547632865258663, Val Loss: 1.387798989434835, Bias Clusters: 3, Weight Clusters: 5\n",
      "Epoch 52/100, Loss: 0.035792747061726346, Val Loss: 0.05004169024748784, Bias Clusters: 3, Weight Clusters: 5\n",
      "Epoch 53/100, Loss: 0.03861913090174582, Val Loss: 0.050080465556299546, Bias Clusters: 3, Weight Clusters: 6\n",
      "Epoch 54/100, Loss: 0.0325311686636255, Val Loss: 0.05008099757370645, Bias Clusters: 3, Weight Clusters: 6\n",
      "Epoch 55/100, Loss: 0.07290850686595167, Val Loss: 1.241352106465595, Bias Clusters: 3, Weight Clusters: 6\n",
      "Epoch 56/100, Loss: 0.061732730800550695, Val Loss: 0.05008198370992914, Bias Clusters: 3, Weight Clusters: 5\n",
      "Epoch 57/100, Loss: 0.07725417725275682, Val Loss: 0.05008356778051228, Bias Clusters: 3, Weight Clusters: 6\n",
      "Epoch 58/100, Loss: 0.06552257190666494, Val Loss: 0.05008356778051228, Bias Clusters: 3, Weight Clusters: 5\n",
      "Epoch 59/100, Loss: 0.03243933085142581, Val Loss: 0.050084228033858, Bias Clusters: 3, Weight Clusters: 6\n",
      "Epoch 60/100, Loss: 0.053281653258748354, Val Loss: 0.5497526824240607, Bias Clusters: 3, Weight Clusters: 6\n",
      "Epoch 61/100, Loss: 0.05930016857605452, Val Loss: 0.050086003997422815, Bias Clusters: 3, Weight Clusters: 5\n",
      "Epoch 62/100, Loss: 0.056409100473695115, Val Loss: 0.4872393022859836, Bias Clusters: 3, Weight Clusters: 5\n",
      "Epoch 63/100, Loss: 0.06935024406548579, Val Loss: 0.05008712939797468, Bias Clusters: 3, Weight Clusters: 5\n",
      "Epoch 64/100, Loss: 0.06111267095934185, Val Loss: 2.596416975181743, Bias Clusters: 3, Weight Clusters: 6\n",
      "Epoch 65/100, Loss: 0.15533798542626942, Val Loss: 0.050090786893139214, Bias Clusters: 3, Weight Clusters: 5\n",
      "Epoch 66/100, Loss: 0.06592966226938633, Val Loss: 0.050090786893139214, Bias Clusters: 3, Weight Clusters: 5\n",
      "Epoch 67/100, Loss: 0.04206150339786409, Val Loss: 0.2633239288217572, Bias Clusters: 3, Weight Clusters: 5\n",
      "Epoch 68/100, Loss: 0.07648225839765016, Val Loss: 0.050092115615492094, Bias Clusters: 3, Weight Clusters: 5\n",
      "Epoch 69/100, Loss: 0.08409709574664628, Val Loss: 0.09727758211541926, Bias Clusters: 3, Weight Clusters: 5\n",
      "Epoch 70/100, Loss: 0.06596998670048457, Val Loss: 0.0509152909725041, Bias Clusters: 3, Weight Clusters: 6\n",
      "Epoch 71/100, Loss: 0.10032186702040508, Val Loss: 0.05009604657496363, Bias Clusters: 3, Weight Clusters: 5\n",
      "Epoch 72/100, Loss: 0.03476422450993921, Val Loss: 0.05009604656309695, Bias Clusters: 3, Weight Clusters: 5\n",
      "Epoch 73/100, Loss: 0.05115211948594805, Val Loss: 0.16814405810409294, Bias Clusters: 3, Weight Clusters: 6\n",
      "Epoch 74/100, Loss: 0.08801091776495452, Val Loss: 0.050097578531843955, Bias Clusters: 3, Weight Clusters: 5\n",
      "Epoch 75/100, Loss: 0.1407116323322841, Val Loss: 0.05010167066653002, Bias Clusters: 3, Weight Clusters: 5\n",
      "Epoch 76/100, Loss: 0.038660049013686616, Val Loss: 0.0501010226485075, Bias Clusters: 3, Weight Clusters: 5\n",
      "Epoch 77/100, Loss: 0.07319850535396269, Val Loss: 0.050100373315342464, Bias Clusters: 3, Weight Clusters: 5\n",
      "Epoch 78/100, Loss: 0.03976913681012956, Val Loss: 0.1241306668934465, Bias Clusters: 3, Weight Clusters: 6\n",
      "Epoch 79/100, Loss: 0.3000213619016818, Val Loss: 0.050105583743011724, Bias Clusters: 3, Weight Clusters: 5\n",
      "Epoch 80/100, Loss: 0.050724073177674675, Val Loss: 0.050104861775538724, Bias Clusters: 3, Weight Clusters: 5\n",
      "Epoch 81/100, Loss: 0.046185032653202424, Val Loss: 0.0501048617317428, Bias Clusters: 3, Weight Clusters: 5\n",
      "Epoch 82/100, Loss: 0.051237914028575485, Val Loss: 0.05010514815765263, Bias Clusters: 3, Weight Clusters: 6\n",
      "Epoch 83/100, Loss: 0.07960264564264768, Val Loss: 0.049711016781731336, Bias Clusters: 3, Weight Clusters: 6\n",
      "Epoch 84/100, Loss: 0.04399106646978812, Val Loss: 0.05587809361589063, Bias Clusters: 3, Weight Clusters: 6\n",
      "Epoch 85/100, Loss: 0.13738280016502663, Val Loss: 0.05010931799000951, Bias Clusters: 3, Weight Clusters: 6\n",
      "Epoch 86/100, Loss: 0.06721850470158772, Val Loss: 0.050108469298912856, Bias Clusters: 3, Weight Clusters: 5\n",
      "Epoch 87/100, Loss: 0.0713911459827338, Val Loss: 0.05010903199616257, Bias Clusters: 3, Weight Clusters: 6\n",
      "Epoch 88/100, Loss: 0.03775751705685036, Val Loss: 0.05686332934369742, Bias Clusters: 3, Weight Clusters: 6\n",
      "Epoch 89/100, Loss: 0.14342503299943746, Val Loss: 0.05011204401333005, Bias Clusters: 3, Weight Clusters: 5\n",
      "Epoch 90/100, Loss: 0.07132251933188113, Val Loss: 0.050111087326825225, Bias Clusters: 3, Weight Clusters: 5\n",
      "Epoch 91/100, Loss: 0.049722016163927414, Val Loss: 0.050109205235371594, Bias Clusters: 3, Weight Clusters: 6\n",
      "Epoch 92/100, Loss: 0.23211834621339078, Val Loss: 0.05011363675333844, Bias Clusters: 3, Weight Clusters: 5\n",
      "Epoch 93/100, Loss: 0.030415015974985436, Val Loss: 0.05011257911926417, Bias Clusters: 3, Weight Clusters: 5\n",
      "Epoch 94/100, Loss: 0.057389086917717665, Val Loss: 0.05011324153653097, Bias Clusters: 3, Weight Clusters: 6\n",
      "Epoch 95/100, Loss: 0.05543625443478532, Val Loss: 0.0500882019063607, Bias Clusters: 3, Weight Clusters: 6\n",
      "Epoch 96/100, Loss: 0.2296765694532689, Val Loss: 0.050117578123387595, Bias Clusters: 3, Weight Clusters: 5\n",
      "Epoch 97/100, Loss: 0.086252576231215, Val Loss: 0.05011631740182402, Bias Clusters: 3, Weight Clusters: 5\n",
      "Epoch 98/100, Loss: 0.08788371133989042, Val Loss: 0.050115051474072164, Bias Clusters: 3, Weight Clusters: 5\n",
      "Epoch 99/100, Loss: 0.050805378699635986, Val Loss: 0.05011536321028391, Bias Clusters: 3, Weight Clusters: 6\n"
     ]
    }
   ],
   "source": [
    "nn.train(X = X_train, \n",
    "         y = y_train,\n",
    "         epochs = epochs, \n",
    "         learning_rate = 0.0001,\n",
    "         loss_function=loss_function, \n",
    "         optimizer=optimizer, \n",
    "         batch_size=batch_size, \n",
    "         epochs_quantization = epochs_quantization,\n",
    "         distance_metric = distance_metric, \n",
    "         bias_clustering_method = bias_clustering_method,\n",
    "         weight_clustering_method = weight_clustering_method,\n",
    "         validation_split = 0.2)"
   ]
  },
  {
   "cell_type": "code",
   "execution_count": 23,
   "metadata": {},
   "outputs": [],
   "source": [
    "error = nn.predict(X_test) - y_test"
   ]
  },
  {
   "cell_type": "code",
   "execution_count": 24,
   "metadata": {},
   "outputs": [
    {
     "data": {
      "image/png": "[encoded data removed]",
      "text/plain": [
       "<Figure size 800x600 with 1 Axes>"
      ]
     },
     "metadata": {},
     "output_type": "display_data"
    }
   ],
   "source": [
    "# Estatísticas\n",
    "error_mean = np.mean(error)\n",
    "error_std = np.std(error)\n",
    "error_max = np.max(error)\n",
    "error_min = np.min(error)\n",
    "\n",
    "# Criando a figura e os eixos\n",
    "fig, ax = plt.subplots(figsize=(8, 6))\n",
    "\n",
    "# Estilo do gráfico\n",
    "plt.style.use('ggplot')\n",
    "\n",
    "# Plotando histograma com KDE (Densidade) sem legenda\n",
    "sns.histplot(error, bins=30, color='coral', edgecolor='black', stat=\"density\", kde=True, legend=False, ax=ax)\n",
    "\n",
    "# Configuração dos eixos\n",
    "ax.set_xlabel('Error', fontsize=14)\n",
    "ax.set_ylabel('Density', fontsize=14)\n",
    "#ax.set_title('Error Distribution', fontsize=15)\n",
    "ax.tick_params(labelsize=14)\n",
    "ax.grid(True)\n",
    "\n",
    "# Definindo limites do eixo X\n",
    "#ax.set_xlim(error_min, error_max)\n",
    "\n",
    "# Exibir os valores estatísticos no gráfico\n",
    "textstr = '\\n'.join((\n",
    "    f'Max: {error_max:.4f}',\n",
    "    f'Min: {error_min:.4f}',\n",
    "    f'Mean: {error_mean:.4f}',\n",
    "    f'2x Std: {2 * error_std:.4f}'\n",
    "))\n",
    "props = dict(boxstyle='round', facecolor='gray', alpha=0.5)\n",
    "ax.text(0.95, 0.95, textstr, transform=ax.transAxes, fontsize=12,\n",
    "        verticalalignment='top', horizontalalignment='right', bbox=props)\n",
    "\n",
    "plt.savefig('./figures/example_02.pdf', bbox_inches='tight', pad_inches=0, dpi=300)\n",
    "# Exibir gráfico\n",
    "plt.show()"
   ]
  },
  {
   "cell_type": "markdown",
   "metadata": {},
   "source": [
    "### 4.11 Save model as C++"
   ]
  },
  {
   "cell_type": "code",
   "execution_count": 25,
   "metadata": {},
   "outputs": [
    {
     "name": "stdout",
     "output_type": "stream",
     "text": [
      "Model C++ saved!\n"
     ]
    }
   ],
   "source": [
    "nn.save_model_as_cpp('./tensorflores_QAT_Autocloud')"
   ]
  },
  {
   "cell_type": "markdown",
   "metadata": {},
   "source": [
    "### 4.12 Save model as json"
   ]
  },
  {
   "cell_type": "code",
   "execution_count": 26,
   "metadata": {},
   "outputs": [
    {
     "name": "stdout",
     "output_type": "stream",
     "text": [
      "Model saved successfully as './tensorflores_QAT_Autocloud.json'!\n"
     ]
    }
   ],
   "source": [
    "nn.save_model_as_json('./tensorflores_QAT_Autocloud')"
   ]
  },
  {
   "cell_type": "markdown",
   "metadata": {},
   "source": [
    "### 4.12 Load model from json"
   ]
  },
  {
   "cell_type": "code",
   "execution_count": 27,
   "metadata": {},
   "outputs": [
    {
     "name": "stdout",
     "output_type": "stream",
     "text": [
      "Successfully loaded JSON file: ./tensorflores_QAT_Autocloud.json\n"
     ]
    },
    {
     "data": {
      "text/plain": [
       "{'model_quantized': True,\n",
       " 'num_layers': 3,\n",
       " 'layers': [{'activation': 'relu',\n",
       "   'weights': [[0, 5, 0, 0, 2, 2, 2, 2, 2, 2, 2, 0, 2, 0, 5, 4],\n",
       "    [0, 0, 4, 4, 0, 3, 2, 2, 2, 4, 2, 2, 3, 4, 4, 2],\n",
       "    [4, 5, 5, 2, 2, 4, 2, 2, 2, 5, 3, 4, 2, 2, 5, 0]],\n",
       "   'biases': [0, 0, 1, 1, 2, 1, 2, 0, 0, 1, 1, 0, 2, 2, 1, 0]},\n",
       "  {'activation': 'relu',\n",
       "   'weights': [[0, 1, 2, 0, 0, 2, 2, 0],\n",
       "    [3, 4, 2, 0, 3, 2, 4, 3],\n",
       "    [2, 4, 2, 0, 0, 0, 2, 2],\n",
       "    [0, 0, 1, 2, 2, 0, 2, 2],\n",
       "    [0, 5, 0, 2, 2, 1, 5, 0],\n",
       "    [5, 2, 0, 2, 5, 5, 0, 2],\n",
       "    [3, 0, 2, 1, 0, 2, 2, 2],\n",
       "    [2, 2, 4, 0, 2, 4, 0, 5],\n",
       "    [4, 0, 0, 1, 1, 0, 0, 2],\n",
       "    [2, 2, 0, 0, 2, 0, 4, 2],\n",
       "    [0, 0, 0, 1, 2, 2, 0, 5],\n",
       "    [0, 2, 0, 1, 0, 0, 4, 2],\n",
       "    [4, 2, 1, 2, 5, 2, 0, 5],\n",
       "    [0, 4, 2, 5, 2, 5, 0, 2],\n",
       "    [0, 2, 0, 2, 2, 0, 0, 4],\n",
       "    [0, 1, 2, 2, 0, 2, 2, 0]],\n",
       "   'biases': [1, 0, 0, 0, 2, 2, 1, 1]},\n",
       "  {'activation': 'linear',\n",
       "   'weights': [[2], [2], [0], [1], [2], [0], [0], [3]],\n",
       "   'biases': [0]}],\n",
       " 'centers_bias': [-0.005864434900393029,\n",
       "  0.009274461857028998,\n",
       "  -0.01754724964363693],\n",
       " 'centers_weights': [0.23761001883118163,\n",
       "  1.129387859258356,\n",
       "  -0.5437767693093417,\n",
       "  -2.387265721871522,\n",
       "  -2.2969898859883666,\n",
       "  1.1835949048933188]}"
      ]
     },
     "execution_count": 27,
     "metadata": {},
     "output_type": "execute_result"
    }
   ],
   "source": [
    "json_data = nn.load_json_model('./tensorflores_QAT_Autocloud')\n",
    "json_data"
   ]
  }
 ],
 "metadata": {
  "kernelspec": {
   "display_name": ".venv",
   "language": "python",
   "name": "python3"
  },
  "language_info": {
   "codemirror_mode": {
    "name": "ipython",
    "version": 3
   },
   "file_extension": ".py",
   "mimetype": "text/x-python",
   "name": "python",
   "nbconvert_exporter": "python",
   "pygments_lexer": "ipython3",
   "version": "3.9.6"
  }
 },
 "nbformat": 4,
 "nbformat_minor": 2
}
