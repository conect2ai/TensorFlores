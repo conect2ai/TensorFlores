{
 "cells": [
  {
   "cell_type": "markdown",
   "metadata": {},
   "source": [
    "# TensorFlores - Example 01"
   ]
  },
  {
   "cell_type": "markdown",
   "metadata": {},
   "source": [
    "## 1. Importing libraries"
   ]
  },
  {
   "cell_type": "code",
   "execution_count": 1,
   "metadata": {},
   "outputs": [],
   "source": [
    "import sys, os\n",
    "path = os.getcwd().split('\\\\examples')[0]\n",
    "sys.path.append(path)"
   ]
  },
  {
   "cell_type": "code",
   "execution_count": 2,
   "metadata": {},
   "outputs": [],
   "source": [
    "import pandas as pd\n",
    "import numpy as np\n",
    "import matplotlib.pyplot as plt\n",
    "import seaborn as sns\n",
    "from sklearn.model_selection import train_test_split\n",
    "from sklearn.preprocessing import MinMaxScaler\n",
    "from tensorflores.models.multilayer_perceptron import MultilayerPerceptron"
   ]
  },
  {
   "cell_type": "markdown",
   "metadata": {},
   "source": [
    "## 2. Load Dataset"
   ]
  },
  {
   "cell_type": "code",
   "execution_count": 3,
   "metadata": {},
   "outputs": [
    {
     "data": {
      "text/html": [
       "<div>\n",
       "<style scoped>\n",
       "    .dataframe tbody tr th:only-of-type {\n",
       "        vertical-align: middle;\n",
       "    }\n",
       "\n",
       "    .dataframe tbody tr th {\n",
       "        vertical-align: top;\n",
       "    }\n",
       "\n",
       "    .dataframe thead th {\n",
       "        text-align: right;\n",
       "    }\n",
       "</style>\n",
       "<table border=\"1\" class=\"dataframe\">\n",
       "  <thead>\n",
       "    <tr style=\"text-align: right;\">\n",
       "      <th></th>\n",
       "      <th>CO2 (g/s) [estimated maf]</th>\n",
       "      <th>CO2 (g/s) [maf]</th>\n",
       "      <th>estimated_maf</th>\n",
       "      <th>intake_pressure</th>\n",
       "      <th>intake_temperature</th>\n",
       "      <th>latitude</th>\n",
       "      <th>longitude</th>\n",
       "      <th>maf</th>\n",
       "      <th>rpm</th>\n",
       "      <th>speed</th>\n",
       "    </tr>\n",
       "  </thead>\n",
       "  <tbody>\n",
       "    <tr>\n",
       "      <th>0</th>\n",
       "      <td>0.809921</td>\n",
       "      <td>0.639659</td>\n",
       "      <td>3.798529</td>\n",
       "      <td>26.0</td>\n",
       "      <td>54.0</td>\n",
       "      <td>-5.793477</td>\n",
       "      <td>-35.198093</td>\n",
       "      <td>3.0</td>\n",
       "      <td>1568.0</td>\n",
       "      <td>43.0</td>\n",
       "    </tr>\n",
       "    <tr>\n",
       "      <th>1</th>\n",
       "      <td>1.796942</td>\n",
       "      <td>2.132196</td>\n",
       "      <td>8.427658</td>\n",
       "      <td>57.0</td>\n",
       "      <td>53.0</td>\n",
       "      <td>-5.793538</td>\n",
       "      <td>-35.198116</td>\n",
       "      <td>10.0</td>\n",
       "      <td>1582.0</td>\n",
       "      <td>43.0</td>\n",
       "    </tr>\n",
       "    <tr>\n",
       "      <th>2</th>\n",
       "      <td>2.199995</td>\n",
       "      <td>2.132196</td>\n",
       "      <td>10.317979</td>\n",
       "      <td>69.0</td>\n",
       "      <td>53.0</td>\n",
       "      <td>-5.793600</td>\n",
       "      <td>-35.198139</td>\n",
       "      <td>10.0</td>\n",
       "      <td>1600.0</td>\n",
       "      <td>43.0</td>\n",
       "    </tr>\n",
       "    <tr>\n",
       "      <th>3</th>\n",
       "      <td>1.226761</td>\n",
       "      <td>0.639659</td>\n",
       "      <td>5.753511</td>\n",
       "      <td>38.0</td>\n",
       "      <td>54.0</td>\n",
       "      <td>-5.793665</td>\n",
       "      <td>-35.198170</td>\n",
       "      <td>3.0</td>\n",
       "      <td>1625.0</td>\n",
       "      <td>44.0</td>\n",
       "    </tr>\n",
       "    <tr>\n",
       "      <th>4</th>\n",
       "      <td>0.756202</td>\n",
       "      <td>0.426439</td>\n",
       "      <td>3.546585</td>\n",
       "      <td>24.0</td>\n",
       "      <td>54.0</td>\n",
       "      <td>-5.793739</td>\n",
       "      <td>-35.198196</td>\n",
       "      <td>2.0</td>\n",
       "      <td>1586.0</td>\n",
       "      <td>45.0</td>\n",
       "    </tr>\n",
       "  </tbody>\n",
       "</table>\n",
       "</div>"
      ],
      "text/plain": [
       "   CO2 (g/s) [estimated maf]  CO2 (g/s) [maf]  estimated_maf  intake_pressure  \\\n",
       "0                   0.809921         0.639659       3.798529             26.0   \n",
       "1                   1.796942         2.132196       8.427658             57.0   \n",
       "2                   2.199995         2.132196      10.317979             69.0   \n",
       "3                   1.226761         0.639659       5.753511             38.0   \n",
       "4                   0.756202         0.426439       3.546585             24.0   \n",
       "\n",
       "   intake_temperature  latitude  longitude   maf     rpm  speed  \n",
       "0                54.0 -5.793477 -35.198093   3.0  1568.0   43.0  \n",
       "1                53.0 -5.793538 -35.198116  10.0  1582.0   43.0  \n",
       "2                53.0 -5.793600 -35.198139  10.0  1600.0   43.0  \n",
       "3                54.0 -5.793665 -35.198170   3.0  1625.0   44.0  \n",
       "4                54.0 -5.793739 -35.198196   2.0  1586.0   45.0  "
      ]
     },
     "execution_count": 3,
     "metadata": {},
     "output_type": "execute_result"
    }
   ],
   "source": [
    "df = pd.read_csv(path + '\\\\data\\\\emission_total.csv')\n",
    "df.head(5)"
   ]
  },
  {
   "cell_type": "code",
   "execution_count": 4,
   "metadata": {},
   "outputs": [],
   "source": [
    "scaler = MinMaxScaler()"
   ]
  },
  {
   "cell_type": "code",
   "execution_count": 5,
   "metadata": {},
   "outputs": [],
   "source": [
    "values_df = scaler.fit_transform(df[['intake_pressure', 'intake_temperature', 'speed', 'CO2 (g/s) [maf]']])"
   ]
  },
  {
   "cell_type": "code",
   "execution_count": 6,
   "metadata": {},
   "outputs": [],
   "source": [
    "X = values_df[:,0:3]\n",
    "y = values_df[:,3:]"
   ]
  },
  {
   "cell_type": "markdown",
   "metadata": {},
   "source": [
    "## 3. Splitting the data"
   ]
  },
  {
   "cell_type": "code",
   "execution_count": 7,
   "metadata": {},
   "outputs": [],
   "source": [
    "X_train, X_test, y_train, y_test  = train_test_split(X, y, test_size=0.2, random_state=42)"
   ]
  },
  {
   "cell_type": "code",
   "execution_count": 8,
   "metadata": {},
   "outputs": [],
   "source": [
    "y_train = y_train.reshape(-1, 1)\n",
    "y_test = y_test.reshape(-1, 1)"
   ]
  },
  {
   "cell_type": "markdown",
   "metadata": {},
   "source": [
    "## 4. Define the model"
   ]
  },
  {
   "cell_type": "markdown",
   "metadata": {},
   "source": [
    "### 4.1 Define hidden layers and neurons"
   ]
  },
  {
   "cell_type": "code",
   "execution_count": 9,
   "metadata": {},
   "outputs": [],
   "source": [
    "hidden_layer_sizes = [16, 8]             "
   ]
  },
  {
   "cell_type": "markdown",
   "metadata": {},
   "source": [
    "### 4.2 Define activaction functions"
   ]
  },
  {
   "cell_type": "code",
   "execution_count": 10,
   "metadata": {},
   "outputs": [],
   "source": [
    "activation_functions = ['relu', # Hidden layer (16 neurons)\n",
    "                        'relu', # Hidden layer (8 neurons)\n",
    "                       'linear'] # Output layer (8 neurons)"
   ]
  },
  {
   "cell_type": "markdown",
   "metadata": {},
   "source": [
    "### 4.3 Define input and output size"
   ]
  },
  {
   "cell_type": "code",
   "execution_count": 11,
   "metadata": {},
   "outputs": [],
   "source": [
    "input_size = X.shape[1]\n",
    "output_size = y.shape[1]"
   ]
  },
  {
   "cell_type": "markdown",
   "metadata": {},
   "source": [
    "### 4.4 Disable quantization-aware training"
   ]
  },
  {
   "cell_type": "code",
   "execution_count": 12,
   "metadata": {},
   "outputs": [],
   "source": [
    "training_with_quantization = False"
   ]
  },
  {
   "cell_type": "markdown",
   "metadata": {},
   "source": [
    "### 4.5 Define the type of weight and bias initialisation"
   ]
  },
  {
   "cell_type": "code",
   "execution_count": 13,
   "metadata": {},
   "outputs": [],
   "source": [
    "weight_bias_init = 'RandomNormal'"
   ]
  },
  {
   "cell_type": "markdown",
   "metadata": {},
   "source": [
    "### 4.6 Create the TensorFlores class"
   ]
  },
  {
   "cell_type": "code",
   "execution_count": 14,
   "metadata": {},
   "outputs": [],
   "source": [
    "nn = MultilayerPerceptron()"
   ]
  },
  {
   "cell_type": "code",
   "execution_count": 15,
   "metadata": {},
   "outputs": [],
   "source": [
    "nn = MultilayerPerceptron(input_size = input_size,\n",
    "                            hidden_layer_sizes = hidden_layer_sizes,\n",
    "                            output_size = output_size ,\n",
    "                            activation_functions = activation_functions,\n",
    "                            weight_bias_init = weight_bias_init,\n",
    "                            training_with_quantization = training_with_quantization)\n"
   ]
  },
  {
   "cell_type": "markdown",
   "metadata": {},
   "source": [
    "### 4.7 Define training epochs"
   ]
  },
  {
   "cell_type": "code",
   "execution_count": 16,
   "metadata": {},
   "outputs": [],
   "source": [
    "epochs =  100"
   ]
  },
  {
   "cell_type": "markdown",
   "metadata": {},
   "source": [
    "### 4.8 Define the batch size"
   ]
  },
  {
   "cell_type": "code",
   "execution_count": 17,
   "metadata": {},
   "outputs": [],
   "source": [
    "batch_size = 36"
   ]
  },
  {
   "cell_type": "markdown",
   "metadata": {},
   "source": [
    "### 4.9 Define the loss function\n",
    "\n",
    "- 'mean_squared_error'\n",
    "- 'cross_entropy'\n",
    "- 'mean_absolute_error'\n",
    "- 'binary_cross_entropy'"
   ]
  },
  {
   "cell_type": "code",
   "execution_count": 18,
   "metadata": {},
   "outputs": [],
   "source": [
    "loss_function = 'mean_squared_error'"
   ]
  },
  {
   "cell_type": "markdown",
   "metadata": {},
   "source": [
    "### 4.10 Define the optimizer\n",
    "\n",
    "- 'sgd'\n",
    "- 'adam'\n",
    "- 'adamax'"
   ]
  },
  {
   "cell_type": "code",
   "execution_count": 19,
   "metadata": {},
   "outputs": [],
   "source": [
    "optimizer = 'adamax'"
   ]
  },
  {
   "cell_type": "code",
   "execution_count": 20,
   "metadata": {},
   "outputs": [
    {
     "name": "stdout",
     "output_type": "stream",
     "text": [
      "Epoch 1/100, Loss: 41.858449281568575, Val Loss: 46.26630215282912\n",
      "Epoch 2/100, Loss: 50.11502541775152, Val Loss: 44.81620227249461\n",
      "Epoch 3/100, Loss: 34.76294726283555, Val Loss: 43.38823558303176\n",
      "Epoch 4/100, Loss: 46.803143506611754, Val Loss: 41.98371149418847\n",
      "Epoch 5/100, Loss: 40.21847594907818, Val Loss: 40.60170224040532\n",
      "Epoch 6/100, Loss: 43.55153059460534, Val Loss: 39.24203874588786\n",
      "Epoch 7/100, Loss: 39.5072145065147, Val Loss: 37.905371341997544\n",
      "Epoch 8/100, Loss: 35.013963659647615, Val Loss: 36.59169475750194\n",
      "Epoch 9/100, Loss: 36.465047331175306, Val Loss: 35.301308214026726\n",
      "Epoch 10/100, Loss: 26.839675798321565, Val Loss: 34.03447260268825\n",
      "Epoch 11/100, Loss: 27.42214895961269, Val Loss: 32.791685214598715\n",
      "Epoch 12/100, Loss: 32.60834164444047, Val Loss: 31.57323388306496\n",
      "Epoch 13/100, Loss: 40.67764842152974, Val Loss: 30.381542862090303\n",
      "Epoch 14/100, Loss: 33.97043113264254, Val Loss: 29.21939578895789\n",
      "Epoch 15/100, Loss: 23.554009822444648, Val Loss: 28.081759309981454\n",
      "Epoch 16/100, Loss: 29.17693742084156, Val Loss: 26.968969071407223\n",
      "Epoch 17/100, Loss: 22.27776428902676, Val Loss: 25.878870019866806\n",
      "Epoch 18/100, Loss: 24.64630306958785, Val Loss: 24.810904961355675\n",
      "Epoch 19/100, Loss: 23.818128159546127, Val Loss: 23.765936500475647\n",
      "Epoch 20/100, Loss: 21.167593205584488, Val Loss: 22.743948794852045\n",
      "Epoch 21/100, Loss: 20.214198235789134, Val Loss: 21.744761222765607\n",
      "Epoch 22/100, Loss: 22.468907407324032, Val Loss: 20.769231318322536\n",
      "Epoch 23/100, Loss: 21.400164055884503, Val Loss: 19.817057084572216\n",
      "Epoch 24/100, Loss: 17.522863232326692, Val Loss: 18.88818355341309\n",
      "Epoch 25/100, Loss: 18.027673683679836, Val Loss: 17.982528111658\n",
      "Epoch 26/100, Loss: 16.184073719004786, Val Loss: 17.099297352268355\n",
      "Epoch 27/100, Loss: 12.862953607530121, Val Loss: 16.238825352528142\n",
      "Epoch 28/100, Loss: 12.652338902956938, Val Loss: 15.401802357074489\n",
      "Epoch 29/100, Loss: 15.697063947282363, Val Loss: 14.587933754455822\n",
      "Epoch 30/100, Loss: 12.704954879419265, Val Loss: 13.796607242543946\n",
      "Epoch 31/100, Loss: 14.325835858695337, Val Loss: 13.027864501798867\n",
      "Epoch 32/100, Loss: 12.084125899611422, Val Loss: 12.280804145176084\n",
      "Epoch 33/100, Loss: 11.313694174256902, Val Loss: 11.556037270435889\n",
      "Epoch 34/100, Loss: 8.663191586275609, Val Loss: 10.853369563406629\n",
      "Epoch 35/100, Loss: 7.179775255076607, Val Loss: 10.173446402363783\n",
      "Epoch 36/100, Loss: 6.376900855167613, Val Loss: 9.515210243014566\n",
      "Epoch 37/100, Loss: 10.411767072803494, Val Loss: 8.879160831933685\n",
      "Epoch 38/100, Loss: 6.48834609078145, Val Loss: 8.26532775698449\n",
      "Epoch 39/100, Loss: 7.117416238510558, Val Loss: 7.674694579239255\n",
      "Epoch 40/100, Loss: 7.9280318570100485, Val Loss: 7.107809244135685\n",
      "Epoch 41/100, Loss: 6.502753018158261, Val Loss: 6.564196922465312\n",
      "Epoch 42/100, Loss: 5.413327062781456, Val Loss: 6.044024423831571\n",
      "Epoch 43/100, Loss: 4.920453204774607, Val Loss: 5.547794736408994\n",
      "Epoch 44/100, Loss: 4.607388183758011, Val Loss: 5.075404560658172\n",
      "Epoch 45/100, Loss: 5.277072441724186, Val Loss: 4.626557912075951\n",
      "Epoch 46/100, Loss: 4.337473661844166, Val Loss: 4.201418527169256\n",
      "Epoch 47/100, Loss: 4.479040050666982, Val Loss: 3.7994830516142235\n",
      "Epoch 48/100, Loss: 2.698732435874579, Val Loss: 3.420271587088242\n",
      "Epoch 49/100, Loss: 3.0005221652594454, Val Loss: 3.0641406645330003\n",
      "Epoch 50/100, Loss: 2.817934456325793, Val Loss: 2.731413636210954\n",
      "Epoch 51/100, Loss: 2.327301275946799, Val Loss: 2.4215946723796775\n",
      "Epoch 52/100, Loss: 1.868172214614362, Val Loss: 2.135324483087738\n",
      "Epoch 53/100, Loss: 2.1848906488197315, Val Loss: 1.8740348880168523\n",
      "Epoch 54/100, Loss: 1.2214139205817425, Val Loss: 1.6377562078186723\n",
      "Epoch 55/100, Loss: 1.06774884513647, Val Loss: 1.426015092958606\n",
      "Epoch 56/100, Loss: 0.9712804039334932, Val Loss: 1.2391124615313964\n",
      "Epoch 57/100, Loss: 0.834137324877268, Val Loss: 1.0773270140677704\n",
      "Epoch 58/100, Loss: 0.8409771042045378, Val Loss: 0.9424768112822672\n",
      "Epoch 59/100, Loss: 0.6127196745156718, Val Loss: 0.8319429787112518\n",
      "Epoch 60/100, Loss: 0.5411843044776989, Val Loss: 0.7444207596297295\n",
      "Epoch 61/100, Loss: 0.7454056069658038, Val Loss: 0.6755396926411049\n",
      "Epoch 62/100, Loss: 0.4389741940791875, Val Loss: 0.6176420900646287\n",
      "Epoch 63/100, Loss: 0.758173145035246, Val Loss: 0.5681233285392622\n",
      "Epoch 64/100, Loss: 0.6693925523644981, Val Loss: 0.5239928438568919\n",
      "Epoch 65/100, Loss: 0.38783942694830886, Val Loss: 0.4825955427367539\n",
      "Epoch 66/100, Loss: 0.4971989624960488, Val Loss: 0.4440209050640238\n",
      "Epoch 67/100, Loss: 0.3589859500808483, Val Loss: 0.4090126336146487\n",
      "Epoch 68/100, Loss: 0.27195530853371996, Val Loss: 0.37565427581887756\n",
      "Epoch 69/100, Loss: 0.260408122958045, Val Loss: 0.344733139869428\n",
      "Epoch 70/100, Loss: 0.2782184640820897, Val Loss: 0.31593965586391526\n",
      "Epoch 71/100, Loss: 0.3549079261327454, Val Loss: 0.28960840528472853\n",
      "Epoch 72/100, Loss: 0.24655628529254014, Val Loss: 0.265712534797918\n",
      "Epoch 73/100, Loss: 0.25418072618610565, Val Loss: 0.243329862347397\n",
      "Epoch 74/100, Loss: 0.2519821015936552, Val Loss: 0.2232646759881087\n",
      "Epoch 75/100, Loss: 0.18819547070081066, Val Loss: 0.20507133301523175\n",
      "Epoch 76/100, Loss: 0.21224716660596668, Val Loss: 0.1889564386616579\n",
      "Epoch 77/100, Loss: 0.19557452406120412, Val Loss: 0.17482591793929877\n",
      "Epoch 78/100, Loss: 0.12167910756819532, Val Loss: 0.16247723109176412\n",
      "Epoch 79/100, Loss: 0.12135925093499966, Val Loss: 0.1523316341926095\n",
      "Epoch 80/100, Loss: 0.13243406281566092, Val Loss: 0.1437073258008032\n",
      "Epoch 81/100, Loss: 0.17080698471500372, Val Loss: 0.13652632616139862\n",
      "Epoch 82/100, Loss: 0.13680575472804957, Val Loss: 0.130070393092344\n",
      "Epoch 83/100, Loss: 0.13462805251177784, Val Loss: 0.1249193677545272\n",
      "Epoch 84/100, Loss: 0.08026685831766778, Val Loss: 0.12080670309155696\n",
      "Epoch 85/100, Loss: 0.11308306551022022, Val Loss: 0.11729496170783173\n",
      "Epoch 86/100, Loss: 0.08406569027498326, Val Loss: 0.11419241572930237\n",
      "Epoch 87/100, Loss: 0.10577203806806423, Val Loss: 0.11180581747218162\n",
      "Epoch 88/100, Loss: 0.10907561522983723, Val Loss: 0.1096843554658472\n",
      "Epoch 89/100, Loss: 0.09229134381680704, Val Loss: 0.10777782009819922\n",
      "Epoch 90/100, Loss: 0.08763819729400665, Val Loss: 0.10614548893837841\n",
      "Epoch 91/100, Loss: 0.07666854999133871, Val Loss: 0.10473853371846105\n",
      "Epoch 92/100, Loss: 0.11251199596771334, Val Loss: 0.10349439642488863\n",
      "Epoch 93/100, Loss: 0.13438659792690116, Val Loss: 0.10220936759456303\n",
      "Epoch 94/100, Loss: 0.10027268596714245, Val Loss: 0.10102620086603872\n",
      "Epoch 95/100, Loss: 0.14399710172681074, Val Loss: 0.09997374489294274\n",
      "Epoch 96/100, Loss: 0.08273903360806528, Val Loss: 0.09887625090598723\n",
      "Epoch 97/100, Loss: 0.09051642378815479, Val Loss: 0.09787167233572208\n",
      "Epoch 98/100, Loss: 0.15006782125193646, Val Loss: 0.09687007266835308\n",
      "Epoch 99/100, Loss: 0.08020655960484145, Val Loss: 0.09589197233646526\n",
      "Epoch 100/100, Loss: 0.06040883319857267, Val Loss: 0.09492958337109819\n"
     ]
    }
   ],
   "source": [
    "nn.train(X = X_train, \n",
    "         y = y_train,\n",
    "         epochs = epochs, \n",
    "         learning_rate = 0.0001,\n",
    "         loss_function=loss_function, \n",
    "         optimizer=optimizer, \n",
    "         batch_size=batch_size, \n",
    "         validation_split = 0.2)"
   ]
  },
  {
   "cell_type": "code",
   "execution_count": 21,
   "metadata": {},
   "outputs": [],
   "source": [
    "error = nn.predict(X_test) - y_test"
   ]
  },
  {
   "cell_type": "code",
   "execution_count": 22,
   "metadata": {},
   "outputs": [
    {
     "data": {
      "image/png": "[encoded data removed]",
      "text/plain": [
       "<Figure size 800x600 with 1 Axes>"
      ]
     },
     "metadata": {},
     "output_type": "display_data"
    }
   ],
   "source": [
    "# Estatísticas\n",
    "error_mean = np.mean(error)\n",
    "error_std = np.std(error)\n",
    "error_max = np.max(error)\n",
    "error_min = np.min(error)\n",
    "\n",
    "# Criando a figura e os eixos\n",
    "fig, ax = plt.subplots(figsize=(8, 6))\n",
    "\n",
    "# Estilo do gráfico\n",
    "plt.style.use('ggplot')\n",
    "\n",
    "# Plotando histograma com KDE (Densidade) sem legenda\n",
    "sns.histplot(error, bins=30, color='coral', edgecolor='black', stat=\"density\", kde=True, legend=False, ax=ax)\n",
    "\n",
    "# Configuração dos eixos\n",
    "ax.set_xlabel('Error', fontsize=14)\n",
    "ax.set_ylabel('Density', fontsize=14)\n",
    "#ax.set_title('Error Distribution', fontsize=15)\n",
    "ax.tick_params(labelsize=14)\n",
    "ax.grid(True)\n",
    "\n",
    "# Definindo limites do eixo X\n",
    "ax.set_xlim(error_min, error_max)\n",
    "\n",
    "# Exibir os valores estatísticos no gráfico\n",
    "textstr = '\\n'.join((\n",
    "    f'Max: {error_max:.4f}',\n",
    "    f'Min: {error_min:.4f}',\n",
    "    f'Mean: {error_mean:.4f}',\n",
    "    f'2x Std: {2 * error_std:.4f}'\n",
    "))\n",
    "props = dict(boxstyle='round', facecolor='gray', alpha=0.5)\n",
    "ax.text(0.95, 0.95, textstr, transform=ax.transAxes, fontsize=12,\n",
    "        verticalalignment='top', horizontalalignment='right', bbox=props)\n",
    "\n",
    "plt.savefig('./figures/example_01.pdf', bbox_inches='tight', pad_inches=0, dpi=300)\n",
    "# Exibir gráfico\n",
    "plt.show()"
   ]
  },
  {
   "cell_type": "markdown",
   "metadata": {},
   "source": [
    "### 4.11 Save model as C++"
   ]
  },
  {
   "cell_type": "code",
   "execution_count": 23,
   "metadata": {},
   "outputs": [
    {
     "name": "stdout",
     "output_type": "stream",
     "text": [
      "Model C++ saved!\n"
     ]
    }
   ],
   "source": [
    "nn.save_model_as_cpp('./tensorflores_without_quant')"
   ]
  },
  {
   "cell_type": "markdown",
   "metadata": {},
   "source": [
    "### 4.12 Save model as json"
   ]
  },
  {
   "cell_type": "code",
   "execution_count": 24,
   "metadata": {},
   "outputs": [
    {
     "name": "stdout",
     "output_type": "stream",
     "text": [
      "Model saved successfully as './tensorflores_without_quant.json'!\n"
     ]
    }
   ],
   "source": [
    "nn.save_model_as_json('./tensorflores_without_quant')"
   ]
  },
  {
   "cell_type": "markdown",
   "metadata": {},
   "source": [
    "### 4.12 Load model from json"
   ]
  },
  {
   "cell_type": "code",
   "execution_count": 25,
   "metadata": {},
   "outputs": [
    {
     "name": "stdout",
     "output_type": "stream",
     "text": [
      "Successfully loaded JSON file: ./tensorflores_without_quant.json\n"
     ]
    },
    {
     "data": {
      "text/plain": [
       "{'model_quantized': False,\n",
       " 'num_layers': 3,\n",
       " 'layers': [{'activation': 'relu',\n",
       "   'weights': [[-0.0005772341026594916,\n",
       "     -0.5119157914591745,\n",
       "     -1.3189779787766966,\n",
       "     -1.9037018013659437,\n",
       "     1.1653238877453183,\n",
       "     0.6979194232837418,\n",
       "     -0.4947619250545843,\n",
       "     0.5596694645277294,\n",
       "     0.017927842179126293,\n",
       "     0.4258959180168385,\n",
       "     -0.7844215229879007,\n",
       "     -0.6032661853253871,\n",
       "     1.0562813891255107,\n",
       "     -0.9984179598545366,\n",
       "     -0.4751303435229142,\n",
       "     0.30954778709071823],\n",
       "    [-1.8279283822629908,\n",
       "     -0.8736809736211831,\n",
       "     0.26488414978405633,\n",
       "     -0.18527473295441668,\n",
       "     -0.28297667843023394,\n",
       "     0.30667821875944506,\n",
       "     1.7694933626794898,\n",
       "     1.917080727870769,\n",
       "     0.04506059801060034,\n",
       "     -0.5984374585251195,\n",
       "     0.9413366064050688,\n",
       "     -1.5926025821478966,\n",
       "     0.9144431819871668,\n",
       "     0.49239482384405703,\n",
       "     -0.893092057504579,\n",
       "     -0.012206797064560581],\n",
       "    [0.7425815991919884,\n",
       "     -1.6716265349098656,\n",
       "     1.149758634153701,\n",
       "     0.7572064233801535,\n",
       "     0.5101984546976129,\n",
       "     0.9350229652509853,\n",
       "     -0.14785418739735823,\n",
       "     0.9115574451194322,\n",
       "     -1.0077742176922464,\n",
       "     1.0212925340786847,\n",
       "     -1.7289972108687062,\n",
       "     -1.8219652342999526,\n",
       "     0.6934521485723432,\n",
       "     0.2216805766039028,\n",
       "     0.522452867883147,\n",
       "     -0.0031124701440302972]],\n",
       "   'biases': [-0.014468796308583774,\n",
       "    -0.007894700256005908,\n",
       "    0.004742340228037998,\n",
       "    -0.029500025371885723,\n",
       "    0.0065770132962566456,\n",
       "    0.007235204446614891,\n",
       "    0.008429315800174303,\n",
       "    0.001651943874475291,\n",
       "    0.00136533295452693,\n",
       "    0.01758252683276665,\n",
       "    0.01089041608663218,\n",
       "    0.0066138805244737794,\n",
       "    -0.003297718943243218,\n",
       "    0.005639516908862597,\n",
       "    -0.026729979457111197,\n",
       "    0.0008857307719286624]},\n",
       "  {'activation': 'relu',\n",
       "   'weights': [[0.9900541727135794,\n",
       "     -0.22115578080593534,\n",
       "     0.2216309120392799,\n",
       "     0.2893757924124589,\n",
       "     -2.486409147575042,\n",
       "     1.184278309915316,\n",
       "     0.5325504945790327,\n",
       "     0.8926975487503364],\n",
       "    [-0.07695173171945717,\n",
       "     -0.07590496195835145,\n",
       "     0.2675905815274325,\n",
       "     -0.7345640615013286,\n",
       "     0.839636596142557,\n",
       "     -0.10775405594471543,\n",
       "     1.7163093777479717,\n",
       "     1.2319695993781938],\n",
       "    [-0.46067059484986206,\n",
       "     0.3552685605290544,\n",
       "     0.6152163144257207,\n",
       "     -0.6746284892584914,\n",
       "     -1.3489862431196886,\n",
       "     0.5562379002817389,\n",
       "     -1.825756798047379,\n",
       "     -1.1812023411912322],\n",
       "    [-0.44935441331627624,\n",
       "     0.32657207566670987,\n",
       "     -1.7843308879331492,\n",
       "     0.5689766480475971,\n",
       "     0.37603272833989937,\n",
       "     1.6026569535004693,\n",
       "     0.004533157600761724,\n",
       "     0.31906135581961065],\n",
       "    [1.187947780844678,\n",
       "     0.4083401725891803,\n",
       "     0.9081407534051565,\n",
       "     0.3371534868075329,\n",
       "     0.4421646823067646,\n",
       "     2.8262630677115648,\n",
       "     0.28602824664118104,\n",
       "     1.026970198187473],\n",
       "    [-0.1479900613116198,\n",
       "     0.7191402098201138,\n",
       "     -0.5266446981830658,\n",
       "     0.5838574042651968,\n",
       "     -0.18912379457790715,\n",
       "     -0.8252751026671842,\n",
       "     0.4578700361076384,\n",
       "     -0.4229679993692256],\n",
       "    [-0.33622541488085533,\n",
       "     -0.022443280132819744,\n",
       "     0.3757516476643839,\n",
       "     1.1880420229816868,\n",
       "     -0.7097223465051247,\n",
       "     -2.3627282753675396,\n",
       "     -0.6687315085450342,\n",
       "     -0.20088366072437566],\n",
       "    [0.7100646107173797,\n",
       "     0.8993971600225011,\n",
       "     -0.8110799538125086,\n",
       "     -0.47963805143975385,\n",
       "     0.6645606757659784,\n",
       "     1.7123386557851603,\n",
       "     0.02903509433864234,\n",
       "     1.2254918361185954],\n",
       "    [-0.3413559627666162,\n",
       "     -0.7804299931165624,\n",
       "     0.7173227214638568,\n",
       "     0.24195967677344016,\n",
       "     -0.2622178496600062,\n",
       "     0.7058193600511099,\n",
       "     -0.6274524293880791,\n",
       "     0.030940266041967535],\n",
       "    [0.7847352601494605,\n",
       "     -0.8629680063523931,\n",
       "     -0.4238721714773232,\n",
       "     0.8221650525874996,\n",
       "     1.1028266333765573,\n",
       "     -1.2422021014532685,\n",
       "     0.8728604405118087,\n",
       "     0.3124986442552178],\n",
       "    [0.8155556661717894,\n",
       "     -1.3061114050386007,\n",
       "     -0.1991656115557133,\n",
       "     -0.32122374023718564,\n",
       "     -0.4601707053902892,\n",
       "     0.5241451493586037,\n",
       "     -0.3062229527159322,\n",
       "     -1.7597927635311772],\n",
       "    [3.4116644580675497,\n",
       "     -0.9732066334091534,\n",
       "     -0.608529638068942,\n",
       "     -0.06250319957168426,\n",
       "     0.7286846594681867,\n",
       "     0.5005761457129444,\n",
       "     -1.255164098587257,\n",
       "     -1.911331264824869],\n",
       "    [-0.6094188328609585,\n",
       "     0.9263591453830009,\n",
       "     -2.508543638813721,\n",
       "     -0.1360983680092728,\n",
       "     -0.1849146243353808,\n",
       "     -2.238790240037516,\n",
       "     -1.8065263835760768,\n",
       "     0.2698102058819025],\n",
       "    [-0.6249927294352761,\n",
       "     -1.289888984679902,\n",
       "     -0.6689918748203691,\n",
       "     0.3267171813187964,\n",
       "     1.205173500565362,\n",
       "     0.8657645777429495,\n",
       "     0.21178125268100442,\n",
       "     -0.8485175762904872],\n",
       "    [-0.040130057775021995,\n",
       "     -1.467788233499814,\n",
       "     0.33354807248520746,\n",
       "     0.7712588989563101,\n",
       "     -0.8391269473355001,\n",
       "     -2.1771262499430595,\n",
       "     1.1712012058011103,\n",
       "     0.018604505846696578],\n",
       "    [-0.40874507054382,\n",
       "     -0.6172831021494571,\n",
       "     -1.0045928578633065,\n",
       "     0.9831706221566577,\n",
       "     -0.8820023022104396,\n",
       "     0.7164027354124662,\n",
       "     -1.3867960158649908,\n",
       "     -1.3944032344166402]],\n",
       "   'biases': [0.007676352695969973,\n",
       "    0.00202946384259336,\n",
       "    -4.8300195660654035e-05,\n",
       "    0.0016318237834436636,\n",
       "    0.00765028171434756,\n",
       "    -0.0020728470524858183,\n",
       "    -0.004126515059292805,\n",
       "    0.00021194793006072617]},\n",
       "  {'activation': 'linear',\n",
       "   'weights': [[0.4640739561157186],\n",
       "    [0.38500981901617815],\n",
       "    [-0.858358988057769],\n",
       "    [-2.9839453135012084],\n",
       "    [-0.8493921705355871],\n",
       "    [1.1346376855053604],\n",
       "    [-0.8470201761900871],\n",
       "    [0.7654822357752209]],\n",
       "   'biases': [-0.01844053522569908]}]}"
      ]
     },
     "execution_count": 25,
     "metadata": {},
     "output_type": "execute_result"
    }
   ],
   "source": [
    "json_data = nn.load_json_model('./tensorflores_without_quant')\n",
    "json_data"
   ]
  }
 ],
 "metadata": {
  "kernelspec": {
   "display_name": ".venv",
   "language": "python",
   "name": "python3"
  },
  "language_info": {
   "codemirror_mode": {
    "name": "ipython",
    "version": 3
   },
   "file_extension": ".py",
   "mimetype": "text/x-python",
   "name": "python",
   "nbconvert_exporter": "python",
   "pygments_lexer": "ipython3",
   "version": "3.9.6"
  }
 },
 "nbformat": 4,
 "nbformat_minor": 2
}
