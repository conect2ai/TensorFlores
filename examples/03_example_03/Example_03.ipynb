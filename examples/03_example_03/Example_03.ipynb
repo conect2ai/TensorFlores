{
 "cells": [
  {
   "cell_type": "markdown",
   "metadata": {},
   "source": [
    "# TensorFlores - Example 3"
   ]
  },
  {
   "cell_type": "markdown",
   "metadata": {},
   "source": [
    "## 1. Importing libraries"
   ]
  },
  {
   "cell_type": "code",
   "execution_count": 1,
   "metadata": {},
   "outputs": [],
   "source": [
    "import sys, os\n",
    "path = os.getcwd().split('\\\\examples')[0]\n",
    "sys.path.append(path)"
   ]
  },
  {
   "cell_type": "code",
   "execution_count": 2,
   "metadata": {},
   "outputs": [],
   "source": [
    "import pandas as pd\n",
    "import numpy as np\n",
    "import matplotlib.pyplot as plt\n",
    "import seaborn as sns\n",
    "\n",
    "from tensorflores.utils.clustering import ClusteringMethods\n",
    "from tensorflores.utils.quantization import Quantization\n",
    "from tensorflores.utils.cpp_generation import CppGeneration\n",
    "from tensorflores.utils.json_handle import JsonHandle"
   ]
  },
  {
   "cell_type": "markdown",
   "metadata": {},
   "source": [
    "## 2.  Create the TensorFlores class"
   ]
  },
  {
   "cell_type": "markdown",
   "metadata": {},
   "source": [
    "## 3. Load model from json"
   ]
  },
  {
   "cell_type": "code",
   "execution_count": 3,
   "metadata": {},
   "outputs": [
    {
     "name": "stdout",
     "output_type": "stream",
     "text": [
      "Successfully loaded JSON file: ./tensorflores_without_quant.json\n"
     ]
    },
    {
     "data": {
      "text/plain": [
       "{'model_quantized': False,\n",
       " 'num_layers': 3,\n",
       " 'layers': [{'activation': 'relu',\n",
       "   'weights': [[-0.0005772341026594916,\n",
       "     -0.5119157914591745,\n",
       "     -1.3189779787766966,\n",
       "     -1.9037018013659437,\n",
       "     1.1653238877453183,\n",
       "     0.6979194232837418,\n",
       "     -0.4947619250545843,\n",
       "     0.5596694645277294,\n",
       "     0.017927842179126293,\n",
       "     0.4258959180168385,\n",
       "     -0.7844215229879007,\n",
       "     -0.6032661853253871,\n",
       "     1.0562813891255107,\n",
       "     -0.9984179598545366,\n",
       "     -0.4751303435229142,\n",
       "     0.30954778709071823],\n",
       "    [-1.8279283822629908,\n",
       "     -0.8736809736211831,\n",
       "     0.26488414978405633,\n",
       "     -0.18527473295441668,\n",
       "     -0.28297667843023394,\n",
       "     0.30667821875944506,\n",
       "     1.7694933626794898,\n",
       "     1.917080727870769,\n",
       "     0.04506059801060034,\n",
       "     -0.5984374585251195,\n",
       "     0.9413366064050688,\n",
       "     -1.5926025821478966,\n",
       "     0.9144431819871668,\n",
       "     0.49239482384405703,\n",
       "     -0.893092057504579,\n",
       "     -0.012206797064560581],\n",
       "    [0.7425815991919884,\n",
       "     -1.6716265349098656,\n",
       "     1.149758634153701,\n",
       "     0.7572064233801535,\n",
       "     0.5101984546976129,\n",
       "     0.9350229652509853,\n",
       "     -0.14785418739735823,\n",
       "     0.9115574451194322,\n",
       "     -1.0077742176922464,\n",
       "     1.0212925340786847,\n",
       "     -1.7289972108687062,\n",
       "     -1.8219652342999526,\n",
       "     0.6934521485723432,\n",
       "     0.2216805766039028,\n",
       "     0.522452867883147,\n",
       "     -0.0031124701440302972]],\n",
       "   'biases': [-0.014468796308583774,\n",
       "    -0.007894700256005908,\n",
       "    0.004742340228037998,\n",
       "    -0.029500025371885723,\n",
       "    0.0065770132962566456,\n",
       "    0.007235204446614891,\n",
       "    0.008429315800174303,\n",
       "    0.001651943874475291,\n",
       "    0.00136533295452693,\n",
       "    0.01758252683276665,\n",
       "    0.01089041608663218,\n",
       "    0.0066138805244737794,\n",
       "    -0.003297718943243218,\n",
       "    0.005639516908862597,\n",
       "    -0.026729979457111197,\n",
       "    0.0008857307719286624]},\n",
       "  {'activation': 'relu',\n",
       "   'weights': [[0.9900541727135794,\n",
       "     -0.22115578080593534,\n",
       "     0.2216309120392799,\n",
       "     0.2893757924124589,\n",
       "     -2.486409147575042,\n",
       "     1.184278309915316,\n",
       "     0.5325504945790327,\n",
       "     0.8926975487503364],\n",
       "    [-0.07695173171945717,\n",
       "     -0.07590496195835145,\n",
       "     0.2675905815274325,\n",
       "     -0.7345640615013286,\n",
       "     0.839636596142557,\n",
       "     -0.10775405594471543,\n",
       "     1.7163093777479717,\n",
       "     1.2319695993781938],\n",
       "    [-0.46067059484986206,\n",
       "     0.3552685605290544,\n",
       "     0.6152163144257207,\n",
       "     -0.6746284892584914,\n",
       "     -1.3489862431196886,\n",
       "     0.5562379002817389,\n",
       "     -1.825756798047379,\n",
       "     -1.1812023411912322],\n",
       "    [-0.44935441331627624,\n",
       "     0.32657207566670987,\n",
       "     -1.7843308879331492,\n",
       "     0.5689766480475971,\n",
       "     0.37603272833989937,\n",
       "     1.6026569535004693,\n",
       "     0.004533157600761724,\n",
       "     0.31906135581961065],\n",
       "    [1.187947780844678,\n",
       "     0.4083401725891803,\n",
       "     0.9081407534051565,\n",
       "     0.3371534868075329,\n",
       "     0.4421646823067646,\n",
       "     2.8262630677115648,\n",
       "     0.28602824664118104,\n",
       "     1.026970198187473],\n",
       "    [-0.1479900613116198,\n",
       "     0.7191402098201138,\n",
       "     -0.5266446981830658,\n",
       "     0.5838574042651968,\n",
       "     -0.18912379457790715,\n",
       "     -0.8252751026671842,\n",
       "     0.4578700361076384,\n",
       "     -0.4229679993692256],\n",
       "    [-0.33622541488085533,\n",
       "     -0.022443280132819744,\n",
       "     0.3757516476643839,\n",
       "     1.1880420229816868,\n",
       "     -0.7097223465051247,\n",
       "     -2.3627282753675396,\n",
       "     -0.6687315085450342,\n",
       "     -0.20088366072437566],\n",
       "    [0.7100646107173797,\n",
       "     0.8993971600225011,\n",
       "     -0.8110799538125086,\n",
       "     -0.47963805143975385,\n",
       "     0.6645606757659784,\n",
       "     1.7123386557851603,\n",
       "     0.02903509433864234,\n",
       "     1.2254918361185954],\n",
       "    [-0.3413559627666162,\n",
       "     -0.7804299931165624,\n",
       "     0.7173227214638568,\n",
       "     0.24195967677344016,\n",
       "     -0.2622178496600062,\n",
       "     0.7058193600511099,\n",
       "     -0.6274524293880791,\n",
       "     0.030940266041967535],\n",
       "    [0.7847352601494605,\n",
       "     -0.8629680063523931,\n",
       "     -0.4238721714773232,\n",
       "     0.8221650525874996,\n",
       "     1.1028266333765573,\n",
       "     -1.2422021014532685,\n",
       "     0.8728604405118087,\n",
       "     0.3124986442552178],\n",
       "    [0.8155556661717894,\n",
       "     -1.3061114050386007,\n",
       "     -0.1991656115557133,\n",
       "     -0.32122374023718564,\n",
       "     -0.4601707053902892,\n",
       "     0.5241451493586037,\n",
       "     -0.3062229527159322,\n",
       "     -1.7597927635311772],\n",
       "    [3.4116644580675497,\n",
       "     -0.9732066334091534,\n",
       "     -0.608529638068942,\n",
       "     -0.06250319957168426,\n",
       "     0.7286846594681867,\n",
       "     0.5005761457129444,\n",
       "     -1.255164098587257,\n",
       "     -1.911331264824869],\n",
       "    [-0.6094188328609585,\n",
       "     0.9263591453830009,\n",
       "     -2.508543638813721,\n",
       "     -0.1360983680092728,\n",
       "     -0.1849146243353808,\n",
       "     -2.238790240037516,\n",
       "     -1.8065263835760768,\n",
       "     0.2698102058819025],\n",
       "    [-0.6249927294352761,\n",
       "     -1.289888984679902,\n",
       "     -0.6689918748203691,\n",
       "     0.3267171813187964,\n",
       "     1.205173500565362,\n",
       "     0.8657645777429495,\n",
       "     0.21178125268100442,\n",
       "     -0.8485175762904872],\n",
       "    [-0.040130057775021995,\n",
       "     -1.467788233499814,\n",
       "     0.33354807248520746,\n",
       "     0.7712588989563101,\n",
       "     -0.8391269473355001,\n",
       "     -2.1771262499430595,\n",
       "     1.1712012058011103,\n",
       "     0.018604505846696578],\n",
       "    [-0.40874507054382,\n",
       "     -0.6172831021494571,\n",
       "     -1.0045928578633065,\n",
       "     0.9831706221566577,\n",
       "     -0.8820023022104396,\n",
       "     0.7164027354124662,\n",
       "     -1.3867960158649908,\n",
       "     -1.3944032344166402]],\n",
       "   'biases': [0.007676352695969973,\n",
       "    0.00202946384259336,\n",
       "    -4.8300195660654035e-05,\n",
       "    0.0016318237834436636,\n",
       "    0.00765028171434756,\n",
       "    -0.0020728470524858183,\n",
       "    -0.004126515059292805,\n",
       "    0.00021194793006072617]},\n",
       "  {'activation': 'linear',\n",
       "   'weights': [[0.4640739561157186],\n",
       "    [0.38500981901617815],\n",
       "    [-0.858358988057769],\n",
       "    [-2.9839453135012084],\n",
       "    [-0.8493921705355871],\n",
       "    [1.1346376855053604],\n",
       "    [-0.8470201761900871],\n",
       "    [0.7654822357752209]],\n",
       "   'biases': [-0.01844053522569908]}]}"
      ]
     },
     "execution_count": 3,
     "metadata": {},
     "output_type": "execute_result"
    }
   ],
   "source": [
    "model_as_json = JsonHandle().load_json_model('./tensorflores_without_quant')\n",
    "model_as_json"
   ]
  },
  {
   "cell_type": "markdown",
   "metadata": {},
   "source": [
    "## 4. Post-Training Quantization"
   ]
  },
  {
   "cell_type": "markdown",
   "metadata": {},
   "source": [
    "### 4.1 Evolving post-training quantization"
   ]
  },
  {
   "cell_type": "markdown",
   "metadata": {},
   "source": [
    "#### 4.1.1 Choose the quantization method\n",
    "\n",
    "- Autocloud \n",
    "    - bias_clustering_method = Clustering_method.autocloud_biases(threshold_biases = 1.4148)\n",
    "    - weight_clustering_method = Clustering_method.autocloud_weight(threshold_weights = 1.4148)\n",
    "\n",
    "- Meanshift\n",
    "    - weight_clustering_method = Clustering_method.meanshift_weight(bandwidth_weights = 0.005)\n",
    "    - bias_clustering_method = Clustering_method.meanshift_biases(bandwidth_biases = 0.005)\n",
    "\n",
    "- Affinity Propagation\n",
    "    - weight_clustering_method = Clustering_method.affinity_propagation_weight(affinityprop_damping_bias = 0.65)\n",
    "    - bias_clustering_method = Clustering_method.affinity_propagation_biases(affinityprop_damping_weight = 0.7)\n",
    "\n",
    "- DBSTREAM\n",
    "    - weight_clustering_method = Clustering_method.dbstream_weight(clustering_threshold_bias = 0.8)\n",
    "    - bias_clustering_method = Clustering_method.dbstream_biases(clustering_threshold_weight = 0.1)"
   ]
  },
  {
   "cell_type": "code",
   "execution_count": 4,
   "metadata": {},
   "outputs": [],
   "source": [
    "Clustering_method = ClusteringMethods()\n",
    "\n",
    "bias_clustering_method = Clustering_method.autocloud_biases(threshold_biases = 1.4)\n",
    "weight_clustering_method = Clustering_method.autocloud_weight(threshold_weights = 1.4)"
   ]
  },
  {
   "cell_type": "markdown",
   "metadata": {},
   "source": [
    "#### 4.1.2 Define the metric to calculate the distance between the centroids of the clusters and the values of weights and/or biases\n",
    "\n",
    "- \"euclidean\"\n",
    "- \"manhattan\"\n",
    "- \"minkowski\"\n",
    "- \"chebyshev\"\n",
    "- \"cosine\"\n",
    "- \"hamming\"\n",
    "- \"bray_curtis\"\n",
    "- \"jaccard\"\n",
    "- \"wasserstein\"\n",
    "- \"dtw\""
   ]
  },
  {
   "cell_type": "code",
   "execution_count": 5,
   "metadata": {},
   "outputs": [],
   "source": [
    "model_as_json_quant = Quantization().post_training_quantization(json_data = model_as_json,\n",
    "                                        quantization_type = 'evolving', \n",
    "                                        distance_metric = \"dtw\", \n",
    "                                        bias_clustering_method = bias_clustering_method,\n",
    "                                        weight_clustering_method = weight_clustering_method)"
   ]
  },
  {
   "cell_type": "code",
   "execution_count": 6,
   "metadata": {},
   "outputs": [
    {
     "data": {
      "text/plain": [
       "{'model_quantized': 'evolving',\n",
       " 'num_layers': 3,\n",
       " 'layers': [{'activation': 'relu',\n",
       "   'weights': [[17, 133, 1, 2, 3, 4, 137, 5, 17, 6, 7, 134, 8, 9, 139, 10],\n",
       "    [11, 12, 13, 0, 0, 14, 15, 16, 17, 135, 18, 19, 20, 21, 22, 17],\n",
       "    [23, 24, 25, 26, 27, 28, 0, 29, 30, 31, 32, 33, 34, 35, 36, 17]],\n",
       "   'biases': [7, 8, 1, 2, 1, 1, 1, 0, 0, 3, 4, 1, 9, 1, 5, 0]},\n",
       "  {'activation': 'relu',\n",
       "   'weights': [[37, 0, 35, 38, 39, 40, 41, 42],\n",
       "    [0, 0, 43, 44, 45, 0, 46, 47],\n",
       "    [140, 48, 49, 50, 51, 52, 53, 54],\n",
       "    [141, 55, 56, 57, 58, 59, 17, 60],\n",
       "    [61, 62, 63, 64, 65, 66, 67, 68],\n",
       "    [0, 69, 136, 70, 0, 71, 72, 142],\n",
       "    [143, 17, 58, 61, 73, 74, 75, 0],\n",
       "    [76, 77, 78, 138, 79, 80, 17, 81],\n",
       "    [143, 82, 69, 83, 0, 84, 85, 17],\n",
       "    [86, 87, 142, 88, 89, 90, 91, 92],\n",
       "    [93, 94, 0, 143, 140, 36, 143, 95],\n",
       "    [96, 97, 98, 0, 99, 100, 101, 102],\n",
       "    [98, 103, 104, 0, 0, 105, 106, 107],\n",
       "    [108, 109, 75, 55, 110, 111, 112, 113],\n",
       "    [17, 114, 115, 116, 117, 118, 119, 17],\n",
       "    [143, 120, 121, 122, 123, 69, 124, 125]],\n",
       "   'biases': [1, 0, 0, 0, 1, 9, 9, 0]},\n",
       "  {'activation': 'linear',\n",
       "   'weights': [[126], [127], [128], [129], [113], [130], [131], [132]],\n",
       "   'biases': [6]}],\n",
       " 'centers_bias': [0.00010215985826635605,\n",
       "  0.006732687490594896,\n",
       "  -0.02950002537188572,\n",
       "  0.017582526832766652,\n",
       "  0.010890416086632179,\n",
       "  -0.026729979457111197,\n",
       "  -0.01844053522569908,\n",
       "  -0.014468796308583772,\n",
       "  -0.007894700256005908,\n",
       "  -0.0037439937749622256],\n",
       " 'centers_weights': [-0.16472166540057215,\n",
       "  -1.3189779787766966,\n",
       "  -1.903701801365944,\n",
       "  1.1653238877453183,\n",
       "  0.6979194232837418,\n",
       "  0.5596694645277294,\n",
       "  0.4258959180168385,\n",
       "  -0.7844215229879007,\n",
       "  1.0562813891255107,\n",
       "  -0.9984179598545366,\n",
       "  0.30954778709071823,\n",
       "  -1.8279283822629906,\n",
       "  -0.873680973621183,\n",
       "  0.2648841497840563,\n",
       "  0.3066782187594451,\n",
       "  1.76949336267949,\n",
       "  1.9170807278707689,\n",
       "  0.04506059801060035,\n",
       "  0.9413366064050688,\n",
       "  -1.5926025821478966,\n",
       "  0.9144431819871668,\n",
       "  0.4923948238440571,\n",
       "  -0.8930920575045789,\n",
       "  0.7425815991919884,\n",
       "  -1.6716265349098656,\n",
       "  1.1497586341537007,\n",
       "  0.7572064233801534,\n",
       "  0.5101984546976128,\n",
       "  0.9350229652509853,\n",
       "  0.9115574451194322,\n",
       "  -1.0077742176922464,\n",
       "  1.0212925340786847,\n",
       "  -1.7289972108687062,\n",
       "  -1.8219652342999524,\n",
       "  0.693452148572343,\n",
       "  0.22165574432159132,\n",
       "  0.5232990086208752,\n",
       "  0.9900541727135794,\n",
       "  0.2893757924124589,\n",
       "  -2.4864091475750425,\n",
       "  1.184278309915316,\n",
       "  0.5325504945790327,\n",
       "  0.8926975487503364,\n",
       "  0.26759058152743254,\n",
       "  -0.7345640615013285,\n",
       "  0.8396365961425569,\n",
       "  1.7163093777479717,\n",
       "  1.2319695993781938,\n",
       "  0.3552685605290544,\n",
       "  0.6152163144257207,\n",
       "  -0.6746284892584915,\n",
       "  -1.3489862431196884,\n",
       "  0.5562379002817389,\n",
       "  -1.8257567980473792,\n",
       "  -1.1812023411912318,\n",
       "  0.3266446284927531,\n",
       "  -1.7843308879331492,\n",
       "  0.5689766480475971,\n",
       "  0.37589218800214147,\n",
       "  1.602656953500469,\n",
       "  0.3190613558196106,\n",
       "  1.1879949019131817,\n",
       "  0.4083401725891803,\n",
       "  0.9081407534051564,\n",
       "  0.3371534868075328,\n",
       "  0.44216468230676453,\n",
       "  2.8262630677115643,\n",
       "  0.2860282466411811,\n",
       "  1.026970198187473,\n",
       "  0.7176218888988124,\n",
       "  0.5838574042651967,\n",
       "  -0.8252751026671842,\n",
       "  0.4578700361076384,\n",
       "  -0.7097223465051247,\n",
       "  -2.362728275367539,\n",
       "  -0.6688616916827013,\n",
       "  0.7100646107173796,\n",
       "  0.8993971600225011,\n",
       "  -0.8110799538125086,\n",
       "  0.6645606757659784,\n",
       "  1.7123386557851603,\n",
       "  1.2254918361185954,\n",
       "  -0.7804299931165624,\n",
       "  0.24195967677344016,\n",
       "  0.7058193600511099,\n",
       "  -0.627452429388079,\n",
       "  0.7847352601494603,\n",
       "  -0.8629680063523932,\n",
       "  0.8221650525874995,\n",
       "  1.1028266333765573,\n",
       "  -1.2422021014532685,\n",
       "  0.8728604405118087,\n",
       "  0.3124986442552178,\n",
       "  0.8155556661717893,\n",
       "  -1.3061114050386007,\n",
       "  -1.7597927635311774,\n",
       "  3.4116644580675493,\n",
       "  -0.9732066334091535,\n",
       "  -0.6089742354649502,\n",
       "  0.7286846594681868,\n",
       "  0.5005761457129443,\n",
       "  -1.2551640985872572,\n",
       "  -1.9113312648248688,\n",
       "  0.9263591453830008,\n",
       "  -2.508543638813721,\n",
       "  -2.238790240037516,\n",
       "  -1.8065263835760765,\n",
       "  0.2698102058819025,\n",
       "  -0.6249927294352761,\n",
       "  -1.2898889846799018,\n",
       "  1.2051735005653619,\n",
       "  0.8657645777429495,\n",
       "  0.21178125268100445,\n",
       "  -0.8489548734130372,\n",
       "  -1.467788233499814,\n",
       "  0.3335480724852074,\n",
       "  0.7712588989563101,\n",
       "  -0.8391269473354999,\n",
       "  -2.1771262499430595,\n",
       "  1.1712012058011105,\n",
       "  -0.6172831021494571,\n",
       "  -1.0045928578633065,\n",
       "  0.9831706221566576,\n",
       "  -0.8820023022104395,\n",
       "  -1.3867960158649908,\n",
       "  -1.3944032344166404,\n",
       "  0.46407395611571856,\n",
       "  0.38500981901617815,\n",
       "  -0.8583589880577689,\n",
       "  -2.9839453135012075,\n",
       "  1.1346376855053601,\n",
       "  -0.847729470974487,\n",
       "  0.7654822357752208,\n",
       "  -0.5119157914591745,\n",
       "  -0.6032661853253871,\n",
       "  -0.5984374585251194,\n",
       "  -0.5266446981830658,\n",
       "  -0.4947619250545843,\n",
       "  -0.4796380514397538,\n",
       "  -0.47513034352291417,\n",
       "  -0.4604206501200756,\n",
       "  -0.4493544133162763,\n",
       "  -0.4234200854232744,\n",
       "  -0.40874507054382]}"
      ]
     },
     "execution_count": 6,
     "metadata": {},
     "output_type": "execute_result"
    }
   ],
   "source": [
    "model_as_json_quant"
   ]
  },
  {
   "cell_type": "markdown",
   "metadata": {},
   "source": [
    "#### 4.1.3 Save model as C++"
   ]
  },
  {
   "cell_type": "code",
   "execution_count": 7,
   "metadata": {},
   "outputs": [
    {
     "name": "stdout",
     "output_type": "stream",
     "text": [
      "Model C++ saved!\n"
     ]
    },
    {
     "data": {
      "text/plain": [
       "'namespace Conect2AI {\\nnamespace TensorFlores {\\nclass MultilayerPerceptron {\\npublic: \\n\\nfloat* predict(float *x) {\\n    float* y_pred = new float[1];\\nstatic const float center_bias[10] = {0.00010215985826635605, 0.006732687490594896, -0.02950002537188572, 0.017582526832766652, 0.010890416086632179, -0.026729979457111197, -0.01844053522569908, -0.014468796308583772, -0.007894700256005908, -0.0037439937749622256};\\n\\nstatic const float centers_weights[144] = {-0.16472166540057215, -1.3189779787766966, -1.903701801365944, 1.1653238877453183, 0.6979194232837418, 0.5596694645277294, 0.4258959180168385, -0.7844215229879007, 1.0562813891255107, -0.9984179598545366, 0.30954778709071823, -1.8279283822629906, -0.873680973621183, 0.2648841497840563, 0.3066782187594451, 1.76949336267949, 1.9170807278707689, 0.04506059801060035, 0.9413366064050688, -1.5926025821478966, 0.9144431819871668, 0.4923948238440571, -0.8930920575045789, 0.7425815991919884, -1.6716265349098656, 1.1497586341537007, 0.7572064233801534, 0.5101984546976128, 0.9350229652509853, 0.9115574451194322, -1.0077742176922464, 1.0212925340786847, -1.7289972108687062, -1.8219652342999524, 0.693452148572343, 0.22165574432159132, 0.5232990086208752, 0.9900541727135794, 0.2893757924124589, -2.4864091475750425, 1.184278309915316, 0.5325504945790327, 0.8926975487503364, 0.26759058152743254, -0.7345640615013285, 0.8396365961425569, 1.7163093777479717, 1.2319695993781938, 0.3552685605290544, 0.6152163144257207, -0.6746284892584915, -1.3489862431196884, 0.5562379002817389, -1.8257567980473792, -1.1812023411912318, 0.3266446284927531, -1.7843308879331492, 0.5689766480475971, 0.37589218800214147, 1.602656953500469, 0.3190613558196106, 1.1879949019131817, 0.4083401725891803, 0.9081407534051564, 0.3371534868075328, 0.44216468230676453, 2.8262630677115643, 0.2860282466411811, 1.026970198187473, 0.7176218888988124, 0.5838574042651967, -0.8252751026671842, 0.4578700361076384, -0.7097223465051247, -2.362728275367539, -0.6688616916827013, 0.7100646107173796, 0.8993971600225011, -0.8110799538125086, 0.6645606757659784, 1.7123386557851603, 1.2254918361185954, -0.7804299931165624, 0.24195967677344016, 0.7058193600511099, -0.627452429388079, 0.7847352601494603, -0.8629680063523932, 0.8221650525874995, 1.1028266333765573, -1.2422021014532685, 0.8728604405118087, 0.3124986442552178, 0.8155556661717893, -1.3061114050386007, -1.7597927635311774, 3.4116644580675493, -0.9732066334091535, -0.6089742354649502, 0.7286846594681868, 0.5005761457129443, -1.2551640985872572, -1.9113312648248688, 0.9263591453830008, -2.508543638813721, -2.238790240037516, -1.8065263835760765, 0.2698102058819025, -0.6249927294352761, -1.2898889846799018, 1.2051735005653619, 0.8657645777429495, 0.21178125268100445, -0.8489548734130372, -1.467788233499814, 0.3335480724852074, 0.7712588989563101, -0.8391269473354999, -2.1771262499430595, 1.1712012058011105, -0.6172831021494571, -1.0045928578633065, 0.9831706221566576, -0.8820023022104395, -1.3867960158649908, -1.3944032344166404, 0.46407395611571856, 0.38500981901617815, -0.8583589880577689, -2.9839453135012075, 1.1346376855053601, -0.847729470974487, 0.7654822357752208, -0.5119157914591745, -0.6032661853253871, -0.5984374585251194, -0.5266446981830658, -0.4947619250545843, -0.4796380514397538, -0.47513034352291417, -0.4604206501200756, -0.4493544133162763, -0.4234200854232744, -0.40874507054382};\\n\\nstatic const uint8_t w1[3][16] = {\\n    {17, 133, 1, 2, 3, 4, 137, 5, 17, 6, 7, 134, 8, 9, 139, 10},\\n    {11, 12, 13, 0, 0, 14, 15, 16, 17, 135, 18, 19, 20, 21, 22, 17},\\n    {23, 24, 25, 26, 27, 28, 0, 29, 30, 31, 32, 33, 34, 35, 36, 17}\\n};\\n\\nstatic const uint8_t b1[16] = {7, 8, 1, 2, 1, 1, 1, 0, 0, 3, 4, 1, 9, 1, 5, 0};\\n\\nstatic const uint8_t w2[16][8] = {\\n    {37, 0, 35, 38, 39, 40, 41, 42},\\n    {0, 0, 43, 44, 45, 0, 46, 47},\\n    {140, 48, 49, 50, 51, 52, 53, 54},\\n    {141, 55, 56, 57, 58, 59, 17, 60},\\n    {61, 62, 63, 64, 65, 66, 67, 68},\\n    {0, 69, 136, 70, 0, 71, 72, 142},\\n    {143, 17, 58, 61, 73, 74, 75, 0},\\n    {76, 77, 78, 138, 79, 80, 17, 81},\\n    {143, 82, 69, 83, 0, 84, 85, 17},\\n    {86, 87, 142, 88, 89, 90, 91, 92},\\n    {93, 94, 0, 143, 140, 36, 143, 95},\\n    {96, 97, 98, 0, 99, 100, 101, 102},\\n    {98, 103, 104, 0, 0, 105, 106, 107},\\n    {108, 109, 75, 55, 110, 111, 112, 113},\\n    {17, 114, 115, 116, 117, 118, 119, 17},\\n    {143, 120, 121, 122, 123, 69, 124, 125}\\n};\\n\\nstatic const uint8_t b2[8] = {1, 0, 0, 0, 1, 9, 9, 0};\\n\\nstatic const uint8_t w3[8][1] = {\\n    {126},\\n    {127},\\n    {128},\\n    {129},\\n    {113},\\n    {130},\\n    {131},\\n    {132}\\n};\\n\\nstatic const uint8_t b3[1] = {6};\\n\\n    // Input Layer \\n    float z1[16];\\n    for (int i = 0; i < 16; i++)\\n    {\\n        z1[i] = center_bias[b1[i]];\\n        for (int j = 0; j < 3; j++)\\n        {\\n            z1[i] += x[j] * centers_weights[w1[j][i]];\\n        }\\n        z1[i] = relu(z1[i]);    }\\n\\n    // Hidden Layers \\n    float z2[8];\\n    for (int i = 0; i < 8; i++)\\n    {\\n        z2[i] = center_bias[b2[i]];\\n        for (int j = 0; j < 16; j++)\\n        {\\n            z2[i] += z1[j] * centers_weights[w2[j][i]];\\n        }\\n        z2[i] = relu(z2[i]);    }\\n\\n    // Output Layer\\n    float z3[1];\\n    for (int k = 0; k < 1; k++)\\n    {\\n        z3[k] = center_bias[b3[k]];\\n        for (int j = 0; j < 8; j++)\\n        {\\n            z3[k] += z2[j] * centers_weights[w3[j][k]];\\n        }\\n        y_pred[k] = linear(z3[k]);    }\\n\\n    return y_pred;\\n}\\nvoid free_prediction(float* prediction) {\\n    delete[] prediction;\\n}\\n\\nprotected:\\nfloat relu(float x)\\n{\\n    return x > 0 ? x : 0;\\n};\\n\\nfloat linear(float x)\\n{\\n    return x;\\n};\\n\\n};\\n}\\n}\\n'"
      ]
     },
     "execution_count": 7,
     "metadata": {},
     "output_type": "execute_result"
    }
   ],
   "source": [
    "cpp_model = CppGeneration().generate_cpp_from_json(json_data = model_as_json_quant, file_name = 'tensorflores_evolving_PQT')\n",
    "cpp_model"
   ]
  },
  {
   "cell_type": "markdown",
   "metadata": {},
   "source": [
    "### 4.2 Int8 post-training quantization"
   ]
  },
  {
   "cell_type": "markdown",
   "metadata": {},
   "source": [
    "#### 4.2.1 Apply int8 quantizaion"
   ]
  },
  {
   "cell_type": "code",
   "execution_count": 8,
   "metadata": {},
   "outputs": [],
   "source": [
    "model_as_json_int8 = Quantization().post_training_quantization(json_data = model_as_json,\n",
    "                                        quantization_type = 'int8')"
   ]
  },
  {
   "cell_type": "markdown",
   "metadata": {},
   "source": [
    "#### 4.2.2 Save model as C++"
   ]
  },
  {
   "cell_type": "code",
   "execution_count": 9,
   "metadata": {},
   "outputs": [
    {
     "data": {
      "text/plain": [
       "{'model_quantized': 'int8',\n",
       " 'num_layers': 3,\n",
       " 'layers': [{'activation': 'relu',\n",
       "   'weights': [[118,\n",
       "     98,\n",
       "     66,\n",
       "     43,\n",
       "     165,\n",
       "     146,\n",
       "     99,\n",
       "     141,\n",
       "     119,\n",
       "     135,\n",
       "     87,\n",
       "     94,\n",
       "     161,\n",
       "     79,\n",
       "     100,\n",
       "     131],\n",
       "    [46,\n",
       "     84,\n",
       "     129,\n",
       "     111,\n",
       "     107,\n",
       "     131,\n",
       "     189,\n",
       "     195,\n",
       "     120,\n",
       "     95,\n",
       "     156,\n",
       "     55,\n",
       "     155,\n",
       "     138,\n",
       "     83,\n",
       "     118],\n",
       "    [148,\n",
       "     52,\n",
       "     164,\n",
       "     149,\n",
       "     139,\n",
       "     156,\n",
       "     113,\n",
       "     155,\n",
       "     78,\n",
       "     159,\n",
       "     50,\n",
       "     46,\n",
       "     146,\n",
       "     127,\n",
       "     139,\n",
       "     118]],\n",
       "   'biases': [118,\n",
       "    118,\n",
       "    119,\n",
       "    117,\n",
       "    119,\n",
       "    119,\n",
       "    119,\n",
       "    119,\n",
       "    119,\n",
       "    119,\n",
       "    119,\n",
       "    119,\n",
       "    118,\n",
       "    119,\n",
       "    117,\n",
       "    119]},\n",
       "  {'activation': 'relu',\n",
       "   'weights': [[158, 110, 127, 130, 19, 166, 140, 154],\n",
       "    [115, 115, 129, 89, 152, 114, 187, 168],\n",
       "    [100, 133, 143, 92, 65, 141, 46, 71],\n",
       "    [101, 131, 47, 141, 133, 182, 119, 131],\n",
       "    [166, 135, 155, 132, 136, 231, 130, 159],\n",
       "    [113, 147, 97, 142, 111, 86, 137, 102],\n",
       "    [105, 118, 133, 166, 90, 24, 92, 110],\n",
       "    [147, 154, 86, 99, 145, 187, 120, 167],\n",
       "    [105, 87, 147, 128, 108, 147, 93, 120],\n",
       "    [150, 84, 102, 151, 162, 69, 153, 131],\n",
       "    [151, 66, 111, 106, 100, 139, 106, 48],\n",
       "    [255, 80, 94, 116, 148, 138, 68, 42],\n",
       "    [94, 155, 18, 113, 111, 29, 46, 129],\n",
       "    [94, 67, 92, 131, 167, 153, 127, 85],\n",
       "    [117, 60, 132, 149, 85, 32, 165, 119],\n",
       "    [102, 94, 78, 158, 83, 147, 63, 63]],\n",
       "   'biases': [119, 119, 118, 119, 119, 118, 118, 118]},\n",
       "  {'activation': 'linear',\n",
       "   'weights': [[137], [134], [84], [0], [85], [164], [85], [149]],\n",
       "   'biases': [118]}],\n",
       " 'max_value': 3.4116644580675497,\n",
       " 'min_value': -2.9839453135012084}"
      ]
     },
     "execution_count": 9,
     "metadata": {},
     "output_type": "execute_result"
    }
   ],
   "source": [
    "model_as_json_int8"
   ]
  },
  {
   "cell_type": "code",
   "execution_count": 10,
   "metadata": {},
   "outputs": [
    {
     "name": "stdout",
     "output_type": "stream",
     "text": [
      "Model C++ saved!\n"
     ]
    }
   ],
   "source": [
    "cpp_model_int8 = CppGeneration().generate_cpp_from_json(json_data = model_as_json_int8, file_name = 'tensorflores_int8_PQT')"
   ]
  },
  {
   "cell_type": "code",
   "execution_count": 11,
   "metadata": {},
   "outputs": [],
   "source": [
    "df = pd.read_csv('./result/output_PQT_int8.csv', sep=';')"
   ]
  },
  {
   "cell_type": "code",
   "execution_count": 12,
   "metadata": {},
   "outputs": [],
   "source": [
    "error = df['Predicted'].values - df['Real'].values "
   ]
  },
  {
   "cell_type": "code",
   "execution_count": 13,
   "metadata": {},
   "outputs": [
    {
     "data": {
      "text/plain": [
       "776.9075794621027"
      ]
     },
     "execution_count": 13,
     "metadata": {},
     "output_type": "execute_result"
    }
   ],
   "source": [
    "df['Time (us)'].values[1:].mean()"
   ]
  },
  {
   "cell_type": "code",
   "execution_count": 14,
   "metadata": {},
   "outputs": [
    {
     "data": {
      "image/png": "[encoded data removed]",
      "text/plain": [
       "<Figure size 800x600 with 1 Axes>"
      ]
     },
     "metadata": {},
     "output_type": "display_data"
    }
   ],
   "source": [
    "# Estatísticas\n",
    "error_mean = np.mean(error)\n",
    "error_std = np.std(error)\n",
    "error_max = np.max(error)\n",
    "error_min = np.min(error)\n",
    "\n",
    "# Criando a figura e os eixos\n",
    "fig, ax = plt.subplots(figsize=(8, 6))\n",
    "\n",
    "# Estilo do gráfico\n",
    "plt.style.use('ggplot')\n",
    "\n",
    "# Plotando histograma com KDE (Densidade) sem legenda\n",
    "sns.histplot(error, bins=30, color='coral', edgecolor='black', stat=\"density\", kde=True, legend=False, ax=ax)\n",
    "\n",
    "# Configuração dos eixos\n",
    "ax.set_xlabel('Error', fontsize=14)\n",
    "ax.set_ylabel('Density', fontsize=14)\n",
    "#ax.set_title('Error Distribution', fontsize=15)\n",
    "ax.tick_params(labelsize=14)\n",
    "ax.grid(True)\n",
    "\n",
    "# Definindo limites do eixo X\n",
    "#ax.set_xlim(error_min, error_max)\n",
    "\n",
    "# Exibir os valores estatísticos no gráfico\n",
    "textstr = '\\n'.join((\n",
    "    f'Max: {error_max:.4f}',\n",
    "    f'Min: {error_min:.4f}',\n",
    "    f'Mean: {error_mean:.4f}',\n",
    "    f'2x Std: {2 * error_std:.4f}'\n",
    "))\n",
    "props = dict(boxstyle='round', facecolor='gray', alpha=0.5)\n",
    "ax.text(0.95, 0.95, textstr, transform=ax.transAxes, fontsize=12,\n",
    "        verticalalignment='top', horizontalalignment='right', bbox=props)\n",
    "\n",
    "plt.savefig('./figures/example_04_float32.pdf', bbox_inches='tight', pad_inches=0, dpi=300)\n",
    "# Exibir gráfico\n",
    "plt.show()"
   ]
  },
  {
   "cell_type": "code",
   "execution_count": 15,
   "metadata": {},
   "outputs": [],
   "source": [
    "df = pd.read_csv('./result/output_PQT_evolving.csv', sep=';')"
   ]
  },
  {
   "cell_type": "code",
   "execution_count": 16,
   "metadata": {},
   "outputs": [],
   "source": [
    "error = df['Predicted'].values - df['Real'].values "
   ]
  },
  {
   "cell_type": "code",
   "execution_count": 17,
   "metadata": {},
   "outputs": [
    {
     "data": {
      "image/png": "[encoded data removed]",
      "text/plain": [
       "<Figure size 800x600 with 1 Axes>"
      ]
     },
     "metadata": {},
     "output_type": "display_data"
    }
   ],
   "source": [
    "# Estatísticas\n",
    "error_mean = np.mean(error)\n",
    "error_std = np.std(error)\n",
    "error_max = np.max(error)\n",
    "error_min = np.min(error)\n",
    "\n",
    "# Criando a figura e os eixos\n",
    "fig, ax = plt.subplots(figsize=(8, 6))\n",
    "\n",
    "# Estilo do gráfico\n",
    "plt.style.use('ggplot')\n",
    "\n",
    "# Plotando histograma com KDE (Densidade) sem legenda\n",
    "sns.histplot(error, bins=30, color='coral', edgecolor='black', stat=\"density\", kde=True, legend=False, ax=ax)\n",
    "\n",
    "# Configuração dos eixos\n",
    "ax.set_xlabel('Error', fontsize=14)\n",
    "ax.set_ylabel('Density', fontsize=14)\n",
    "#ax.set_title('Error Distribution', fontsize=15)\n",
    "ax.tick_params(labelsize=14)\n",
    "ax.grid(True)\n",
    "\n",
    "# Definindo limites do eixo X\n",
    "#ax.set_xlim(error_min, error_max)\n",
    "\n",
    "# Exibir os valores estatísticos no gráfico\n",
    "textstr = '\\n'.join((\n",
    "    f'Max: {error_max:.4f}',\n",
    "    f'Min: {error_min:.4f}',\n",
    "    f'Mean: {error_mean:.4f}',\n",
    "    f'2x Std: {2 * error_std:.4f}'\n",
    "))\n",
    "props = dict(boxstyle='round', facecolor='gray', alpha=0.5)\n",
    "ax.text(0.95, 0.95, textstr, transform=ax.transAxes, fontsize=12,\n",
    "        verticalalignment='top', horizontalalignment='right', bbox=props)\n",
    "\n",
    "plt.savefig('./figures/example_03_evolving.pdf', bbox_inches='tight', pad_inches=0, dpi=300)\n",
    "# Exibir gráfico\n",
    "plt.show()"
   ]
  }
 ],
 "metadata": {
  "kernelspec": {
   "display_name": ".venv",
   "language": "python",
   "name": "python3"
  },
  "language_info": {
   "codemirror_mode": {
    "name": "ipython",
    "version": 3
   },
   "file_extension": ".py",
   "mimetype": "text/x-python",
   "name": "python",
   "nbconvert_exporter": "python",
   "pygments_lexer": "ipython3",
   "version": "3.9.6"
  }
 },
 "nbformat": 4,
 "nbformat_minor": 2
}
